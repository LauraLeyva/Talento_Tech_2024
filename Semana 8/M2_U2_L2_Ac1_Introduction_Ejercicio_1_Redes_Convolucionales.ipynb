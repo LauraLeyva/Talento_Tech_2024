{
  "nbformat": 4,
  "nbformat_minor": 0,
  "metadata": {
    "colab": {
      "provenance": []
    },
    "kernelspec": {
      "name": "python3",
      "display_name": "Python 3"
    },
    "language_info": {
      "name": "python"
    }
  },
  "cells": [
    {
      "cell_type": "markdown",
      "source": [
        "Realizar convolución 1D en Python"
      ],
      "metadata": {
        "id": "Q7pJsF6tZayq"
      }
    },
    {
      "cell_type": "code",
      "source": [
        "import numpy as np\n",
        "\n",
        "# Definir las señales de entrada y el filtro\n",
        "\n",
        "x = np.array([2, 1, 0, 1, 2]) # Señal de entrada\n",
        "h = np.array([1, -1]) # Filtro\n",
        "\n",
        "# Realizar la convolución\n",
        "\n",
        "y = np.convolve(x, h, mode='valid')\n",
        "\n",
        "# Imprimir el resultado\n",
        "\n",
        "print(\"Señal de salida después de la convolución:\")\n",
        "print(y)"
      ],
      "metadata": {
        "colab": {
          "base_uri": "https://localhost:8080/"
        },
        "id": "qJ17gl3yZYO4",
        "outputId": "a074596f-3db8-4b42-8d65-06f4444c0a79"
      },
      "execution_count": null,
      "outputs": [
        {
          "output_type": "stream",
          "name": "stdout",
          "text": [
            "Señal de salida después de la convolución:\n",
            "[-1 -1  1  1]\n"
          ]
        }
      ]
    },
    {
      "cell_type": "markdown",
      "source": [
        "Ejemplo númerico de convolución 2D discreto"
      ],
      "metadata": {
        "id": "0oA3TWuZZ7Zz"
      }
    },
    {
      "cell_type": "code",
      "source": [
        "import numpy as np\n",
        "from scipy.signal import convolve2d\n",
        "# Definir la matriz de entrada (señal) y el kernel\n",
        "input_matrix = np.array([[1, 2, 3, 3],\n",
        "                         [4, 5, 6, 6],\n",
        "                         [7, 8, 9, 9],\n",
        "                         [7, 8, 9, 9]])\n",
        "kernel = np.array([[0, 1, 0],\n",
        "                   [-1, 1,-1],\n",
        "                   [0, 1, 0]])\n",
        "\n",
        "# Realizar 1a convolución 2D con mode - valid\n",
        "output_matrix_c_mode = convolve2d(input_matrix, kernel, mode='valid')\n",
        "print(\"Matriz de salida después de la convolución con mode valid:\")\n",
        "print(output_matrix_c_mode)\n",
        "\n",
        "# Realizar 1a convolución 2D sin mode -valid\n",
        "output_matrix_s_mode = convolve2d(input_matrix, kernel)\n",
        "print(\"Matriz de salida después de la convolución sin mode valid:\")\n",
        "print(output_matrix_s_mode)"
      ],
      "metadata": {
        "colab": {
          "base_uri": "https://localhost:8080/"
        },
        "id": "3j1Q4EuBZ_Pa",
        "outputId": "31bd99c1-2d92-4873-96c4-328ab9d47d84"
      },
      "execution_count": null,
      "outputs": [
        {
          "output_type": "stream",
          "name": "stdout",
          "text": [
            "Matriz de salida después de la convolución con mode valid:\n",
            "[[5 7]\n",
            " [5 7]]\n",
            "Matriz de salida después de la convolución sin mode valid:\n",
            "[[ 0  1  2  3  3  0]\n",
            " [-1  3  3  4  6 -3]\n",
            " [-4  7  5  7 12 -6]\n",
            " [-7 10  5  7 15 -9]\n",
            " [-7  6  0  1  9 -9]\n",
            " [ 0  7  8  9  9  0]]\n"
          ]
        }
      ]
    }
  ]
}