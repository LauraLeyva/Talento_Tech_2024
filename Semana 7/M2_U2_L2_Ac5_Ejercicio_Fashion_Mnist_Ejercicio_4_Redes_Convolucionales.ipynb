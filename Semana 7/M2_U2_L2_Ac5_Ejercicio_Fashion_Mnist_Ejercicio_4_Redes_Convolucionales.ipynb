{
  "nbformat": 4,
  "nbformat_minor": 0,
  "metadata": {
    "colab": {
      "provenance": []
    },
    "kernelspec": {
      "name": "python3",
      "display_name": "Python 3"
    },
    "language_info": {
      "name": "python"
    }
  },
  "cells": [
    {
      "cell_type": "markdown",
      "source": [
        "Importar Librerías"
      ],
      "metadata": {
        "id": "gdMQRF5qk9OQ"
      }
    },
    {
      "cell_type": "code",
      "source": [
        "import keras\n",
        "import numpy as np\n",
        "import pandas as pd\n",
        "import tensorflow as tf\n",
        "import matplotlib.pyplot as plt\n",
        "from tensorflow.keras.models import Sequential\n",
        "from tensorflow.keras.layers import Conv2D, MaxPooling2D, Flatten, Dense"
      ],
      "metadata": {
        "id": "DGIZmROCk7WE"
      },
      "execution_count": null,
      "outputs": []
    },
    {
      "cell_type": "markdown",
      "source": [
        "Cargar conjunto de datos"
      ],
      "metadata": {
        "id": "bwb2hc7KlFtb"
      }
    },
    {
      "cell_type": "code",
      "source": [
        "# Cargar el dataset de Fashion MNIST\n",
        "fashion_mnist = keras.datasets.fashion_mnist\n",
        "# Cargue la divisidn de entrenamiento y prueba del conjunto de datos Fashion MNIST\n",
        "(training_images, training_labels), (test_images, test_labels) = fashion_mnist.load_data()"
      ],
      "metadata": {
        "id": "3V1tnRMalEyX"
      },
      "execution_count": null,
      "outputs": []
    },
    {
      "cell_type": "markdown",
      "source": [
        "Normalización datos"
      ],
      "metadata": {
        "id": "Z0OHf8tllM0R"
      }
    },
    {
      "cell_type": "code",
      "source": [
        "# Normalizar los valores de pixeles del tren y probar las imagenes.\n",
        "training_images = training_images / 255.0\n",
        "test_images = test_images / 255.0"
      ],
      "metadata": {
        "id": "8wMZq0i3lLsI"
      },
      "execution_count": null,
      "outputs": []
    },
    {
      "cell_type": "markdown",
      "source": [
        "Construcción del modelo"
      ],
      "metadata": {
        "id": "cmcqbgNIlX56"
      }
    },
    {
      "cell_type": "code",
      "source": [
        "# Construir el modelo de clasificacion.\n",
        "model = keras.models. Sequential ([\n",
        "    # Agregar convoluciones y max pooling\n",
        "    keras.layers.Conv2D(32, (3,3), activation='relu', input_shape=(28, 28, 1)),\n",
        "    keras.layers.MaxPooling2D(2, 2),\n",
        "    # Agrega las mismas capas que antes.\n",
        "    keras.layers.Flatten(),\n",
        "    keras.layers.Dense(128, activation='relu'),\n",
        "    keras.layers.Dense(10, activation='softmax')])\n",
        "\n",
        "model.summary()"
      ],
      "metadata": {
        "colab": {
          "base_uri": "https://localhost:8080/"
        },
        "id": "mts8HgD-lZu3",
        "outputId": "24712f96-3832-430f-e721-69b5af01e638"
      },
      "execution_count": null,
      "outputs": [
        {
          "output_type": "stream",
          "name": "stdout",
          "text": [
            "Model: \"sequential_1\"\n",
            "_________________________________________________________________\n",
            " Layer (type)                Output Shape              Param #   \n",
            "=================================================================\n",
            " conv2d_1 (Conv2D)           (None, 26, 26, 32)        320       \n",
            "                                                                 \n",
            " max_pooling2d_1 (MaxPoolin  (None, 13, 13, 32)        0         \n",
            " g2D)                                                            \n",
            "                                                                 \n",
            " flatten_1 (Flatten)         (None, 5408)              0         \n",
            "                                                                 \n",
            " dense_2 (Dense)             (None, 128)               692352    \n",
            "                                                                 \n",
            " dense_3 (Dense)             (None, 10)                1290      \n",
            "                                                                 \n",
            "=================================================================\n",
            "Total params: 693962 (2.65 MB)\n",
            "Trainable params: 693962 (2.65 MB)\n",
            "Non-trainable params: 0 (0.00 Byte)\n",
            "_________________________________________________________________\n"
          ]
        }
      ]
    },
    {
      "cell_type": "markdown",
      "source": [
        "Compilación del modelo"
      ],
      "metadata": {
        "id": "e5WQgZCAmBs9"
      }
    },
    {
      "cell_type": "code",
      "source": [
        "# Compilar el modelo\n",
        "model.compile(optimizer='adam', loss='sparse_categorical_crossentropy',metrics=['accuracy'])"
      ],
      "metadata": {
        "id": "P0oBuwACmFPz"
      },
      "execution_count": null,
      "outputs": []
    },
    {
      "cell_type": "markdown",
      "source": [
        "Entrenamiento del modelo"
      ],
      "metadata": {
        "id": "qEDcLhEJmDFd"
      }
    },
    {
      "cell_type": "code",
      "source": [
        "# Entrenar el modelo\n",
        "history = model.fit(training_images, training_labels, epochs=10)\n",
        "# Graficar el historial de entrenamiento:\n",
        "pd.DataFrame(history.history).plot(grid=True)"
      ],
      "metadata": {
        "colab": {
          "base_uri": "https://localhost:8080/",
          "height": 813
        },
        "id": "hVAJjvm9mF2L",
        "outputId": "9cf1144e-20e7-42bc-fe40-f94543fd1416"
      },
      "execution_count": null,
      "outputs": [
        {
          "output_type": "stream",
          "name": "stdout",
          "text": [
            "Epoch 1/10\n",
            "1875/1875 [==============================] - 39s 20ms/step - loss: 0.3941 - accuracy: 0.8604\n",
            "Epoch 2/10\n",
            "1875/1875 [==============================] - 37s 20ms/step - loss: 0.2708 - accuracy: 0.9018\n",
            "Epoch 3/10\n",
            "1875/1875 [==============================] - 36s 19ms/step - loss: 0.2247 - accuracy: 0.9177\n",
            "Epoch 4/10\n",
            "1875/1875 [==============================] - 34s 18ms/step - loss: 0.1920 - accuracy: 0.9303\n",
            "Epoch 5/10\n",
            "1875/1875 [==============================] - 37s 20ms/step - loss: 0.1641 - accuracy: 0.9398\n",
            "Epoch 6/10\n",
            "1875/1875 [==============================] - 36s 19ms/step - loss: 0.1397 - accuracy: 0.9489\n",
            "Epoch 7/10\n",
            "1875/1875 [==============================] - 35s 19ms/step - loss: 0.1195 - accuracy: 0.9567\n",
            "Epoch 8/10\n",
            "1875/1875 [==============================] - 36s 19ms/step - loss: 0.1021 - accuracy: 0.9626\n",
            "Epoch 9/10\n",
            "1875/1875 [==============================] - 35s 19ms/step - loss: 0.0857 - accuracy: 0.9689\n",
            "Epoch 10/10\n",
            "1875/1875 [==============================] - 36s 19ms/step - loss: 0.0736 - accuracy: 0.9726\n"
          ]
        },
        {
          "output_type": "execute_result",
          "data": {
            "text/plain": [
              "<Axes: >"
            ]
          },
          "metadata": {},
          "execution_count": 12
        },
        {
          "output_type": "display_data",
          "data": {
            "text/plain": [
              "<Figure size 640x480 with 1 Axes>"
            ],
            "image/png": "[encoded data removed]"
          },
          "metadata": {}
        }
      ]
    },
    {
      "cell_type": "markdown",
      "source": [
        "Evaluación del modelo"
      ],
      "metadata": {
        "id": "59Yw3pETmY8Q"
      }
    },
    {
      "cell_type": "code",
      "source": [
        "# Evaluar el modelo en el conjunto de entrenamiento\n",
        "loss, accuracy = model.evaluate(training_images, training_labels)\n",
        "print(\"Pérdida en el conjunto de entrenamiento:\", loss)\n",
        "print(\"Precisión en el conjunto de entrenamiento:\", accuracy)\n",
        "\n",
        "# Evaluar el modelo con datos no vistos\n",
        "loss, accuracy = model.evaluate(test_images, test_labels)\n",
        "print(\"Pérdida en el conjunto de prueba:\", loss)\n",
        "print (\"Precisión en el conjunto de prueba:\", accuracy)"
      ],
      "metadata": {
        "colab": {
          "base_uri": "https://localhost:8080/"
        },
        "id": "Ah_VV3cXmbEk",
        "outputId": "dbd36c88-a138-499d-f714-dabfc87be8fb"
      },
      "execution_count": null,
      "outputs": [
        {
          "output_type": "stream",
          "name": "stdout",
          "text": [
            "1875/1875 [==============================] - 11s 6ms/step - loss: 0.0749 - accuracy: 0.9727\n",
            "Pérdida en el conjunto de entrenamiento: 0.07490143924951553\n",
            "Precisión en el conjunto de entrenamiento: 0.9727166891098022\n",
            "313/313 [==============================] - 2s 5ms/step - loss: 0.3233 - accuracy: 0.9109\n",
            "Pérdida en el conjunto de prueba: 0.32326748967170715\n",
            "Precisión en el conjunto de prueba: 0.9108999967575073\n"
          ]
        }
      ]
    },
    {
      "cell_type": "markdown",
      "source": [
        "Predicción"
      ],
      "metadata": {
        "id": "FaLB1WFsonjm"
      }
    },
    {
      "cell_type": "code",
      "source": [
        "#predict\n",
        "\n",
        "index = 1\n",
        "print(f'Label: {test_labels[index]}')\n",
        "classification = model.predict(test_images[index:index+1])\n",
        "print(f'Classification:\\n {classification.reshape(-1,1)}')"
      ],
      "metadata": {
        "colab": {
          "base_uri": "https://localhost:8080/"
        },
        "id": "Shmiw4vKojn2",
        "outputId": "77c97d57-ec04-4f70-d3a6-9592e6f71b9d"
      },
      "execution_count": null,
      "outputs": [
        {
          "output_type": "stream",
          "name": "stdout",
          "text": [
            "Label: 2\n",
            "1/1 [==============================] - 0s 95ms/step\n",
            "Classification:\n",
            " [[3.6215153e-10]\n",
            " [3.4109088e-14]\n",
            " [1.0000000e+00]\n",
            " [5.0298760e-10]\n",
            " [1.4444876e-10]\n",
            " [3.0010199e-17]\n",
            " [4.7293458e-12]\n",
            " [1.0567932e-18]\n",
            " [1.5161887e-13]\n",
            " [8.7419856e-21]]\n"
          ]
        }
      ]
    },
    {
      "cell_type": "markdown",
      "source": [
        "Preparación de datos"
      ],
      "metadata": {
        "id": "Eif8I9FxoxN5"
      }
    },
    {
      "cell_type": "code",
      "source": [
        "print(test_labels[:30])"
      ],
      "metadata": {
        "colab": {
          "base_uri": "https://localhost:8080/"
        },
        "id": "GgIKIuUAoynP",
        "outputId": "bfa87485-a03f-45f0-f70d-7743ce9d53ea"
      },
      "execution_count": null,
      "outputs": [
        {
          "output_type": "stream",
          "name": "stdout",
          "text": [
            "[9 2 1 1 6 1 4 6 5 7 4 5 7 3 4 1 2 4 8 0 2 5 7 9 1 4 6 0 9 3]\n"
          ]
        }
      ]
    },
    {
      "cell_type": "markdown",
      "source": [
        "Selección Imágenes de Interes"
      ],
      "metadata": {
        "id": "Xa-Sszcqo68s"
      }
    },
    {
      "cell_type": "code",
      "source": [
        "FIRST_IMAGE=8\n",
        "SECOND_IMAGE=5\n",
        "THIRD_IMAGE=14\n",
        "print(test_labels[FIRST_IMAGE])\n",
        "print(test_labels[SECOND_IMAGE])\n",
        "print(test_labels[ THIRD_IMAGE])"
      ],
      "metadata": {
        "colab": {
          "base_uri": "https://localhost:8080/"
        },
        "id": "5Qoq4_kBo6l8",
        "outputId": "454bb9a2-ce41-4b60-885f-6e9f6fa510cd"
      },
      "execution_count": null,
      "outputs": [
        {
          "output_type": "stream",
          "name": "stdout",
          "text": [
            "5\n",
            "1\n",
            "4\n"
          ]
        }
      ]
    },
    {
      "cell_type": "markdown",
      "source": [
        "Visualización de Imágenes"
      ],
      "metadata": {
        "id": "8t-cDwqMpBmt"
      }
    },
    {
      "cell_type": "code",
      "source": [
        "f, axarr = plt.subplots(3,1)\n",
        "axarr[0].imshow(test_images[FIRST_IMAGE])\n",
        "axarr[1].imshow(test_images[SECOND_IMAGE])\n",
        "axarr[2].imshow(test_images[THIRD_IMAGE])"
      ],
      "metadata": {
        "colab": {
          "base_uri": "https://localhost:8080/",
          "height": 451
        },
        "id": "0bQeChwLpD8X",
        "outputId": "5deb3082-34bc-4fd5-a9dc-02218a6d1ee1"
      },
      "execution_count": null,
      "outputs": [
        {
          "output_type": "execute_result",
          "data": {
            "text/plain": [
              "<matplotlib.image.AxesImage at 0x7cadcf0c5f90>"
            ]
          },
          "metadata": {},
          "execution_count": 30
        },
        {
          "output_type": "display_data",
          "data": {
            "text/plain": [
              "<Figure size 640x480 with 3 Axes>"
            ],
            "image/png": "[encoded data removed]"
          },
          "metadata": {}
        }
      ]
    },
    {
      "cell_type": "markdown",
      "source": [
        "Extracción de activaciones"
      ],
      "metadata": {
        "id": "hP02_cR2pSEc"
      }
    },
    {
      "cell_type": "code",
      "source": [
        "layer = 0\n",
        "filter1 = 0\n",
        "filter2 = 10\n",
        "layer_outputs = [layer.output for layer in model.layers]\n",
        "activation_model = keras.models.Model(inputs = model.input, outputs = layer_outputs)"
      ],
      "metadata": {
        "id": "ilLeJw1KpTz1"
      },
      "execution_count": null,
      "outputs": []
    },
    {
      "cell_type": "markdown",
      "source": [
        "Visualización de Convoluciones"
      ],
      "metadata": {
        "id": "UaJFikjdplEd"
      }
    },
    {
      "cell_type": "code",
      "source": [
        "f, axarr = plt.subplots(3,3)\n",
        "axarr[0, 0].set_title(\"Image Input\")\n",
        "axarr[0,0]. imshow(test_images[FIRST_IMAGE])\n",
        "\n",
        "f1 = activation_model.predict(test_images[FIRST_IMAGE].reshape(1, 28, 28, 1))[layer]\n",
        "axarr[0, 1].set_title(\"Layer\"+ str(layer) +\", Filter1\")\n",
        "axarr[0,1].imshow(f1[0, : , :, filter1])\n",
        "axarr[0,2].set_title(\"Layer\"+ str(layer) +\", Filter2\")\n",
        "axarr[0,2].imshow(f1[0, : , :, filter2])\n",
        "axarr[1,0].imshow(test_images[SECOND_IMAGE])\n",
        "\n",
        "f2 = activation_model.predict(test_images[SECOND_IMAGE].reshape(1, 28, 28, 1))[layer]\n",
        "axarr[1,1].imshow(f2[0, : , :, filter1])\n",
        "axarr[1,2]. imshow(f2[0, : , :, filter2])\n",
        "axarr[2,0].imshow(test_images[THIRD_IMAGE])\n",
        "\n",
        "f3 = activation_model.predict(test_images[THIRD_IMAGE].reshape(1, 28, 28, 1))[layer]\n",
        "axarr[2,1].imshow(f3[0, : , :, filter1])\n",
        "axarr[2,2].imshow(f3[0, : , :, filter2])"
      ],
      "metadata": {
        "colab": {
          "base_uri": "https://localhost:8080/",
          "height": 525
        },
        "id": "qNVJe6kVpnOb",
        "outputId": "ac8cbcd5-4239-4534-aa66-01ce6cd9a4e3"
      },
      "execution_count": null,
      "outputs": [
        {
          "output_type": "stream",
          "name": "stdout",
          "text": [
            "1/1 [==============================] - 0s 75ms/step\n",
            "1/1 [==============================] - 0s 21ms/step\n",
            "1/1 [==============================] - 0s 22ms/step\n"
          ]
        },
        {
          "output_type": "execute_result",
          "data": {
            "text/plain": [
              "<matplotlib.image.AxesImage at 0x7cadda0b6050>"
            ]
          },
          "metadata": {},
          "execution_count": 32
        },
        {
          "output_type": "display_data",
          "data": {
            "text/plain": [
              "<Figure size 640x480 with 9 Axes>"
            ],
            "image/png": "[encoded data removed]"
          },
          "metadata": {}
        }
      ]
    },
    {
      "cell_type": "markdown",
      "source": [
        "Selección Imágenes de Interés"
      ],
      "metadata": {
        "id": "CjrpzKNPqoRA"
      }
    },
    {
      "cell_type": "code",
      "source": [
        "FIRST_IMAGE=0\n",
        "SECOND_IMAGE=7\n",
        "THIRD_IMAGE=18\n",
        "print(test_labels[FIRST_IMAGE])\n",
        "print(test_labels[SECOND_IMAGE])\n",
        "print(test_labels[ THIRD_IMAGE])"
      ],
      "metadata": {
        "colab": {
          "base_uri": "https://localhost:8080/"
        },
        "id": "oiFlXiooqr-n",
        "outputId": "8f6e2701-2e20-4dd0-ea4e-7e8a646ec602"
      },
      "execution_count": null,
      "outputs": [
        {
          "output_type": "stream",
          "name": "stdout",
          "text": [
            "9\n",
            "6\n",
            "8\n"
          ]
        }
      ]
    },
    {
      "cell_type": "markdown",
      "source": [
        "Visualización de Imágenes"
      ],
      "metadata": {
        "id": "oXNN1sk6q2o_"
      }
    },
    {
      "cell_type": "code",
      "source": [
        "f, axarr = plt.subplots(3,1)\n",
        "axarr[0].imshow(test_images[FIRST_IMAGE])\n",
        "axarr[1].imshow(test_images[SECOND_IMAGE])\n",
        "axarr[2].imshow(test_images[THIRD_IMAGE])"
      ],
      "metadata": {
        "colab": {
          "base_uri": "https://localhost:8080/",
          "height": 451
        },
        "id": "5Cm6JhEjq7Lz",
        "outputId": "982256de-8efc-4161-f61e-c46092fdf842"
      },
      "execution_count": null,
      "outputs": [
        {
          "output_type": "execute_result",
          "data": {
            "text/plain": [
              "<matplotlib.image.AxesImage at 0x7cadd77779d0>"
            ]
          },
          "metadata": {},
          "execution_count": 34
        },
        {
          "output_type": "display_data",
          "data": {
            "text/plain": [
              "<Figure size 640x480 with 3 Axes>"
            ],
            "image/png": "[encoded data removed]"
          },
          "metadata": {}
        }
      ]
    },
    {
      "cell_type": "markdown",
      "source": [
        "Extracción de activaciones"
      ],
      "metadata": {
        "id": "dxgz-ik1rZBU"
      }
    },
    {
      "cell_type": "code",
      "source": [
        "layer = 0\n",
        "filter1 = 0\n",
        "filter2 = 10\n",
        "layer_outputs = [layer.output for layer in model.layers]\n",
        "activation_model = keras.models.Model(inputs = model.input, outputs = layer_outputs)"
      ],
      "metadata": {
        "id": "RCWnSru_rZdg"
      },
      "execution_count": null,
      "outputs": []
    },
    {
      "cell_type": "markdown",
      "source": [
        "Visualización Convoluciones"
      ],
      "metadata": {
        "id": "6jQN_AxercPv"
      }
    },
    {
      "cell_type": "code",
      "source": [
        "f, axarr = plt.subplots(3,3)\n",
        "axarr[0, 0].set_title(\"Image Input\")\n",
        "axarr[0,0]. imshow(test_images[FIRST_IMAGE])\n",
        "\n",
        "f1 = activation_model.predict(test_images[FIRST_IMAGE].reshape(1, 28, 28, 1))[layer]\n",
        "axarr[0, 1].set_title(\"Layer\"+ str(layer) +\", Filter1\")\n",
        "axarr[0,1].imshow(f1[0, : , :, filter1])\n",
        "axarr[0,2].set_title(\"Layer\"+ str(layer) +\", Filter2\")\n",
        "axarr[0,2].imshow(f1[0, : , :, filter2])\n",
        "axarr[1,0].imshow(test_images[SECOND_IMAGE])\n",
        "\n",
        "f2 = activation_model.predict(test_images[SECOND_IMAGE].reshape(1, 28, 28, 1))[layer]\n",
        "axarr[1,1].imshow(f2[0, : , :, filter1])\n",
        "axarr[1,2]. imshow(f2[0, : , :, filter2])\n",
        "axarr[2,0].imshow(test_images[THIRD_IMAGE])\n",
        "\n",
        "f3 = activation_model.predict(test_images[THIRD_IMAGE].reshape(1, 28, 28, 1))[layer]\n",
        "axarr[2,1].imshow(f3[0, : , :, filter1])\n",
        "axarr[2,2].imshow(f3[0, : , :, filter2])"
      ],
      "metadata": {
        "colab": {
          "base_uri": "https://localhost:8080/",
          "height": 525
        },
        "id": "FVKb67-QrgNk",
        "outputId": "80e14666-be2b-4868-99de-0ed2995df08a"
      },
      "execution_count": null,
      "outputs": [
        {
          "output_type": "stream",
          "name": "stdout",
          "text": [
            "1/1 [==============================] - 0s 108ms/step\n",
            "1/1 [==============================] - 0s 58ms/step\n",
            "1/1 [==============================] - 0s 151ms/step\n"
          ]
        },
        {
          "output_type": "execute_result",
          "data": {
            "text/plain": [
              "<matplotlib.image.AxesImage at 0x7cadcd77ace0>"
            ]
          },
          "metadata": {},
          "execution_count": 36
        },
        {
          "output_type": "display_data",
          "data": {
            "text/plain": [
              "<Figure size 640x480 with 9 Axes>"
            ],
            "image/png": "[encoded data removed]"
          },
          "metadata": {}
        }
      ]
    }
  ]
}