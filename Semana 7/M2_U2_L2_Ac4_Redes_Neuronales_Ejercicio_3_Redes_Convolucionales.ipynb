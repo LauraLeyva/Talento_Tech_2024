{
  "nbformat": 4,
  "nbformat_minor": 0,
  "metadata": {
    "colab": {
      "provenance": []
    },
    "kernelspec": {
      "name": "python3",
      "display_name": "Python 3"
    },
    "language_info": {
      "name": "python"
    }
  },
  "cells": [
    {
      "cell_type": "markdown",
      "source": [
        "Importar Librerías"
      ],
      "metadata": {
        "id": "gdMQRF5qk9OQ"
      }
    },
    {
      "cell_type": "code",
      "source": [
        "import keras\n",
        "import numpy as np\n",
        "import pandas as pd\n",
        "import matplotlib.pyplot as plt"
      ],
      "metadata": {
        "id": "DGIZmROCk7WE"
      },
      "execution_count": null,
      "outputs": []
    },
    {
      "cell_type": "markdown",
      "source": [
        "Cargar conjunto de datos"
      ],
      "metadata": {
        "id": "bwb2hc7KlFtb"
      }
    },
    {
      "cell_type": "code",
      "source": [
        "# Cargar el conjunto de datos MNIST\n",
        "mnist = keras.datasets.mnist\n",
        "\n",
        "# Cargue la divisidn de entrenamiento y prueba del conjunto de datos MNIST\n",
        "(training_images, training_labels), (test_images, test_labels) = mnist.load_data()"
      ],
      "metadata": {
        "colab": {
          "base_uri": "https://localhost:8080/"
        },
        "id": "3V1tnRMalEyX",
        "outputId": "e43e1bb4-727d-4b80-cef6-f8a87f8c773d"
      },
      "execution_count": null,
      "outputs": [
        {
          "output_type": "stream",
          "name": "stdout",
          "text": [
            "Downloading data from https://storage.googleapis.com/tensorflow/tf-keras-datasets/mnist.npz\n",
            "11490434/11490434 [==============================] - 0s 0us/step\n"
          ]
        }
      ]
    },
    {
      "cell_type": "markdown",
      "source": [
        "Normalización datos"
      ],
      "metadata": {
        "id": "Z0OHf8tllM0R"
      }
    },
    {
      "cell_type": "code",
      "source": [
        "# Normalizar los valores de pixeles del tren y probar las imagenes.\n",
        "training_images = training_images / 255.0\n",
        "test_images = test_images / 255.0"
      ],
      "metadata": {
        "id": "8wMZq0i3lLsI"
      },
      "execution_count": null,
      "outputs": []
    },
    {
      "cell_type": "markdown",
      "source": [
        "Construcción del modelo"
      ],
      "metadata": {
        "id": "cmcqbgNIlX56"
      }
    },
    {
      "cell_type": "code",
      "source": [
        "# Construir el modelo de clasificacion.\n",
        "model = keras.models. Sequential ([\n",
        "    # Agregar convoluciones y max pooling\n",
        "    keras.layers.Conv2D(32, (3,3), activation='relu', input_shape=(28, 28, 1)),\n",
        "    keras.layers.MaxPooling2D(2, 2),\n",
        "    # Agrega las mismas capas que antes.\n",
        "    keras.layers.Flatten(),\n",
        "    keras.layers.Dense(128, activation='relu'),\n",
        "    keras.layers.Dense(10, activation='softmax')])\n",
        "\n",
        "model.summary()"
      ],
      "metadata": {
        "colab": {
          "base_uri": "https://localhost:8080/"
        },
        "id": "mts8HgD-lZu3",
        "outputId": "af67eaf9-09f0-4b29-d621-9613682d74fc"
      },
      "execution_count": null,
      "outputs": [
        {
          "output_type": "stream",
          "name": "stdout",
          "text": [
            "Model: \"sequential_1\"\n",
            "_________________________________________________________________\n",
            " Layer (type)                Output Shape              Param #   \n",
            "=================================================================\n",
            " conv2d_2 (Conv2D)           (None, 26, 26, 32)        320       \n",
            "                                                                 \n",
            " max_pooling2d_1 (MaxPoolin  (None, 13, 13, 32)        0         \n",
            " g2D)                                                            \n",
            "                                                                 \n",
            " flatten_1 (Flatten)         (None, 5408)              0         \n",
            "                                                                 \n",
            " dense_2 (Dense)             (None, 128)               692352    \n",
            "                                                                 \n",
            " dense_3 (Dense)             (None, 10)                1290      \n",
            "                                                                 \n",
            "=================================================================\n",
            "Total params: 693962 (2.65 MB)\n",
            "Trainable params: 693962 (2.65 MB)\n",
            "Non-trainable params: 0 (0.00 Byte)\n",
            "_________________________________________________________________\n"
          ]
        }
      ]
    },
    {
      "cell_type": "markdown",
      "source": [
        "Compilación del modelo"
      ],
      "metadata": {
        "id": "e5WQgZCAmBs9"
      }
    },
    {
      "cell_type": "code",
      "source": [
        "# Compilar el modelo\n",
        "model.compile(optimizer='adam', loss='sparse_categorical_crossentropy',metrics=['accuracy'])"
      ],
      "metadata": {
        "id": "P0oBuwACmFPz"
      },
      "execution_count": null,
      "outputs": []
    },
    {
      "cell_type": "markdown",
      "source": [
        "Entrenamiento del modelo"
      ],
      "metadata": {
        "id": "qEDcLhEJmDFd"
      }
    },
    {
      "cell_type": "code",
      "source": [
        "# Entrenar el modelo\n",
        "history = model.fit(training_images, training_labels, epochs=10)\n",
        "# Graficar el historial de entrenamiento:\n",
        "pd.DataFrame(history.history).plot(grid=True)"
      ],
      "metadata": {
        "colab": {
          "base_uri": "https://localhost:8080/",
          "height": 813
        },
        "id": "hVAJjvm9mF2L",
        "outputId": "89193519-ce14-42db-dbfc-83584b3dbd44"
      },
      "execution_count": null,
      "outputs": [
        {
          "output_type": "stream",
          "name": "stdout",
          "text": [
            "Epoch 1/10\n",
            "1875/1875 [==============================] - 47s 24ms/step - loss: 0.1478 - accuracy: 0.9566\n",
            "Epoch 2/10\n",
            "1875/1875 [==============================] - 46s 25ms/step - loss: 0.0525 - accuracy: 0.9839\n",
            "Epoch 3/10\n",
            "1875/1875 [==============================] - 44s 23ms/step - loss: 0.0322 - accuracy: 0.9898\n",
            "Epoch 4/10\n",
            "1875/1875 [==============================] - 43s 23ms/step - loss: 0.0225 - accuracy: 0.9928\n",
            "Epoch 5/10\n",
            "1875/1875 [==============================] - 45s 24ms/step - loss: 0.0148 - accuracy: 0.9955\n",
            "Epoch 6/10\n",
            "1875/1875 [==============================] - 43s 23ms/step - loss: 0.0107 - accuracy: 0.9965\n",
            "Epoch 7/10\n",
            "1875/1875 [==============================] - 43s 23ms/step - loss: 0.0082 - accuracy: 0.9973\n",
            "Epoch 8/10\n",
            "1875/1875 [==============================] - 43s 23ms/step - loss: 0.0071 - accuracy: 0.9976\n",
            "Epoch 9/10\n",
            "1875/1875 [==============================] - 43s 23ms/step - loss: 0.0045 - accuracy: 0.9987\n",
            "Epoch 10/10\n",
            "1875/1875 [==============================] - 46s 25ms/step - loss: 0.0046 - accuracy: 0.9983\n"
          ]
        },
        {
          "output_type": "execute_result",
          "data": {
            "text/plain": [
              "<Axes: >"
            ]
          },
          "metadata": {},
          "execution_count": 11
        },
        {
          "output_type": "display_data",
          "data": {
            "text/plain": [
              "<Figure size 640x480 with 1 Axes>"
            ],
            "image/png": "[encoded data removed]"
          },
          "metadata": {}
        }
      ]
    },
    {
      "cell_type": "markdown",
      "source": [
        "Evaluación del modelo"
      ],
      "metadata": {
        "id": "59Yw3pETmY8Q"
      }
    },
    {
      "cell_type": "code",
      "source": [
        "# Evaluar el modelo en el conjunto de entrenamiento\n",
        "loss, accuracy = model.evaluate(training_images, training_labels)\n",
        "print(\"Pérdida en el conjunto de entrenamiento:\", loss)\n",
        "print(\"Precisión en el conjunto de entrenamiento:\", accuracy)\n",
        "\n",
        "# Evaluar el modelo con datos no vistos\n",
        "loss, accuracy = model.evaluate(test_images, test_labels)\n",
        "print(\"Pérdida en el conjunto de prueba:\", loss)\n",
        "print (\"Precisión en el conjunto de prueba:\", accuracy)"
      ],
      "metadata": {
        "colab": {
          "base_uri": "https://localhost:8080/"
        },
        "id": "Ah_VV3cXmbEk",
        "outputId": "34fbb112-c5d0-4a99-d302-4b3c6d85f4d9"
      },
      "execution_count": null,
      "outputs": [
        {
          "output_type": "stream",
          "name": "stdout",
          "text": [
            "1875/1875 [==============================] - 14s 7ms/step - loss: 0.0022 - accuracy: 0.9993\n",
            "Pérdida en el conjunto de entrenamiento: 0.0021800247486680746\n",
            "Precisión en el conjunto de entrenamiento: 0.9992833137512207\n",
            "313/313 [==============================] - 3s 10ms/step - loss: 0.0509 - accuracy: 0.9876\n",
            "Pérdida en el conjunto de prueba: 0.05094614624977112\n",
            "Precisión en el conjunto de prueba: 0.9876000285148621\n"
          ]
        }
      ]
    },
    {
      "cell_type": "markdown",
      "source": [
        "Predicción"
      ],
      "metadata": {
        "id": "FaLB1WFsonjm"
      }
    },
    {
      "cell_type": "code",
      "source": [
        "#predict\n",
        "\n",
        "index = 1\n",
        "print(f'Label: {test_labels[index]}')\n",
        "classification = model.predict(test_images[index:index+1])\n",
        "print(f'Classification:\\n {classification.reshape(-1,1)}')"
      ],
      "metadata": {
        "colab": {
          "base_uri": "https://localhost:8080/"
        },
        "id": "Shmiw4vKojn2",
        "outputId": "5153d06a-c702-4772-86f4-b2684464743a"
      },
      "execution_count": null,
      "outputs": [
        {
          "output_type": "stream",
          "name": "stdout",
          "text": [
            "Label: 2\n",
            "1/1 [==============================] - 0s 103ms/step\n",
            "Classification:\n",
            " [[6.2868459e-14]\n",
            " [5.8617651e-13]\n",
            " [1.0000000e+00]\n",
            " [8.8869853e-18]\n",
            " [5.7841864e-21]\n",
            " [9.6029096e-22]\n",
            " [7.4487034e-14]\n",
            " [6.1988874e-18]\n",
            " [6.1698025e-17]\n",
            " [3.4405631e-20]]\n"
          ]
        }
      ]
    },
    {
      "cell_type": "markdown",
      "source": [
        "Preparación de datos"
      ],
      "metadata": {
        "id": "Eif8I9FxoxN5"
      }
    },
    {
      "cell_type": "code",
      "source": [
        "print(test_labels[:30])"
      ],
      "metadata": {
        "colab": {
          "base_uri": "https://localhost:8080/"
        },
        "id": "GgIKIuUAoynP",
        "outputId": "11d611db-e3c3-43f2-c3fe-b895ced0bb6e"
      },
      "execution_count": null,
      "outputs": [
        {
          "output_type": "stream",
          "name": "stdout",
          "text": [
            "[7 2 1 0 4 1 4 9 5 9 0 6 9 0 1 5 9 7 3 4 9 6 6 5 4 0 7 4 0 1]\n"
          ]
        }
      ]
    },
    {
      "cell_type": "markdown",
      "source": [
        "Selección Imágenes de Interes"
      ],
      "metadata": {
        "id": "Xa-Sszcqo68s"
      }
    },
    {
      "cell_type": "code",
      "source": [
        "FIRST_IMAGE=2\n",
        "SECOND_IMAGE=5\n",
        "THIRD_IMAGE=14\n",
        "print(test_labels[FIRST_IMAGE])\n",
        "print(test_labels[SECOND_IMAGE])\n",
        "print(test_labels[ THIRD_IMAGE])"
      ],
      "metadata": {
        "colab": {
          "base_uri": "https://localhost:8080/"
        },
        "id": "5Qoq4_kBo6l8",
        "outputId": "00718395-1fd1-4fb1-aa6f-714aaafb47d8"
      },
      "execution_count": null,
      "outputs": [
        {
          "output_type": "stream",
          "name": "stdout",
          "text": [
            "1\n",
            "1\n",
            "1\n"
          ]
        }
      ]
    },
    {
      "cell_type": "markdown",
      "source": [
        "Visualización de Imágenes"
      ],
      "metadata": {
        "id": "8t-cDwqMpBmt"
      }
    },
    {
      "cell_type": "code",
      "source": [
        "f, axarr = plt.subplots(3,1)\n",
        "axarr[0].imshow(test_images[FIRST_IMAGE])\n",
        "axarr[1].imshow(test_images[SECOND_IMAGE])\n",
        "axarr[2].imshow(test_images[THIRD_IMAGE])"
      ],
      "metadata": {
        "colab": {
          "base_uri": "https://localhost:8080/",
          "height": 451
        },
        "id": "0bQeChwLpD8X",
        "outputId": "20f89bc8-002a-469a-99b2-6a893e72579f"
      },
      "execution_count": null,
      "outputs": [
        {
          "output_type": "execute_result",
          "data": {
            "text/plain": [
              "<matplotlib.image.AxesImage at 0x7c1466ae5b40>"
            ]
          },
          "metadata": {},
          "execution_count": 22
        },
        {
          "output_type": "display_data",
          "data": {
            "text/plain": [
              "<Figure size 640x480 with 3 Axes>"
            ],
            "image/png": "[encoded data removed]"
          },
          "metadata": {}
        }
      ]
    },
    {
      "cell_type": "markdown",
      "source": [
        "Extracción de activaciones"
      ],
      "metadata": {
        "id": "hP02_cR2pSEc"
      }
    },
    {
      "cell_type": "code",
      "source": [
        "layer = 0\n",
        "filter1 = 0\n",
        "filter2 = 10\n",
        "layer_outputs = [layer.output for layer in model.layers]\n",
        "activation_model = keras.models.Model(inputs = model.input, outputs = layer_outputs)"
      ],
      "metadata": {
        "id": "ilLeJw1KpTz1"
      },
      "execution_count": null,
      "outputs": []
    },
    {
      "cell_type": "markdown",
      "source": [
        "Visualización de Convoluciones"
      ],
      "metadata": {
        "id": "UaJFikjdplEd"
      }
    },
    {
      "cell_type": "code",
      "source": [
        "f, axarr = plt.subplots(3,3)\n",
        "axarr[0, 0].set_title(\"Image Input\")\n",
        "axarr[0,0]. imshow(test_images[FIRST_IMAGE])\n",
        "\n",
        "f1 = activation_model.predict(test_images[FIRST_IMAGE].reshape(1, 28, 28, 1))[layer]\n",
        "axarr[0, 1].set_title(\"Layer\"+ str(layer) +\", Filter1\")\n",
        "axarr[0,1].imshow(f1[0, : , :, filter1])\n",
        "axarr[0,2].set_title(\"Layer\"+ str(layer) +\", Filter2\")\n",
        "axarr[0,2].imshow(f1[0, : , :, filter2])\n",
        "axarr[1,0].imshow(test_images[SECOND_IMAGE])\n",
        "\n",
        "f2 = activation_model.predict(test_images[SECOND_IMAGE].reshape(1, 28, 28, 1))[layer]\n",
        "axarr[1,1].imshow(f2[0, : , :, filter1])\n",
        "axarr[1,2]. imshow(f2[0, : , :, filter2])\n",
        "axarr[2,0].imshow(test_images[THIRD_IMAGE])\n",
        "\n",
        "f3 = activation_model.predict(test_images[THIRD_IMAGE].reshape(1, 28, 28, 1))[layer]\n",
        "axarr[2,1].imshow(f3[0, : , :, filter1])\n",
        "axarr[2,2].imshow(f3[0, : , :, filter2])"
      ],
      "metadata": {
        "colab": {
          "base_uri": "https://localhost:8080/",
          "height": 525
        },
        "id": "qNVJe6kVpnOb",
        "outputId": "95bc03db-6805-427c-b589-3bdd20ebb560"
      },
      "execution_count": null,
      "outputs": [
        {
          "output_type": "stream",
          "name": "stdout",
          "text": [
            "1/1 [==============================] - 0s 73ms/step\n",
            "1/1 [==============================] - 0s 22ms/step\n",
            "1/1 [==============================] - 0s 25ms/step\n"
          ]
        },
        {
          "output_type": "execute_result",
          "data": {
            "text/plain": [
              "<matplotlib.image.AxesImage at 0x7c14397869e0>"
            ]
          },
          "metadata": {},
          "execution_count": 24
        },
        {
          "output_type": "display_data",
          "data": {
            "text/plain": [
              "<Figure size 640x480 with 9 Axes>"
            ],
            "image/png": "[encoded data removed]"
          },
          "metadata": {}
        }
      ]
    }
  ]
}