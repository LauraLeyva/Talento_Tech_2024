{
  "nbformat": 4,
  "nbformat_minor": 0,
  "metadata": {
    "colab": {
      "provenance": []
    },
    "kernelspec": {
      "name": "python3",
      "display_name": "Python 3"
    },
    "language_info": {
      "name": "python"
    }
  },
  "cells": [
    {
      "cell_type": "code",
      "execution_count": 1,
      "metadata": {
        "colab": {
          "base_uri": "https://localhost:8080/"
        },
        "id": "HGd4tK1DqA-B",
        "outputId": "e22a6d2f-0f5e-4734-93f6-1e8d2f01f272"
      },
      "outputs": [
        {
          "output_type": "stream",
          "name": "stdout",
          "text": [
            "Collecting flask-ngrok\n",
            "  Downloading flask_ngrok-0.0.25-py3-none-any.whl.metadata (1.8 kB)\n",
            "Requirement already satisfied: Flask>=0.8 in /usr/local/lib/python3.10/dist-packages (from flask-ngrok) (2.2.5)\n",
            "Requirement already satisfied: requests in /usr/local/lib/python3.10/dist-packages (from flask-ngrok) (2.32.3)\n",
            "Requirement already satisfied: Werkzeug>=2.2.2 in /usr/local/lib/python3.10/dist-packages (from Flask>=0.8->flask-ngrok) (3.0.3)\n",
            "Requirement already satisfied: Jinja2>=3.0 in /usr/local/lib/python3.10/dist-packages (from Flask>=0.8->flask-ngrok) (3.1.4)\n",
            "Requirement already satisfied: itsdangerous>=2.0 in /usr/local/lib/python3.10/dist-packages (from Flask>=0.8->flask-ngrok) (2.2.0)\n",
            "Requirement already satisfied: click>=8.0 in /usr/local/lib/python3.10/dist-packages (from Flask>=0.8->flask-ngrok) (8.1.7)\n",
            "Requirement already satisfied: charset-normalizer<4,>=2 in /usr/local/lib/python3.10/dist-packages (from requests->flask-ngrok) (3.3.2)\n",
            "Requirement already satisfied: idna<4,>=2.5 in /usr/local/lib/python3.10/dist-packages (from requests->flask-ngrok) (3.7)\n",
            "Requirement already satisfied: urllib3<3,>=1.21.1 in /usr/local/lib/python3.10/dist-packages (from requests->flask-ngrok) (2.0.7)\n",
            "Requirement already satisfied: certifi>=2017.4.17 in /usr/local/lib/python3.10/dist-packages (from requests->flask-ngrok) (2024.7.4)\n",
            "Requirement already satisfied: MarkupSafe>=2.0 in /usr/local/lib/python3.10/dist-packages (from Jinja2>=3.0->Flask>=0.8->flask-ngrok) (2.1.5)\n",
            "Downloading flask_ngrok-0.0.25-py3-none-any.whl (3.1 kB)\n",
            "Installing collected packages: flask-ngrok\n",
            "Successfully installed flask-ngrok-0.0.25\n"
          ]
        }
      ],
      "source": [
        "!pip install flask-ngrok"
      ]
    },
    {
      "cell_type": "markdown",
      "source": [
        "# Chat Inicial"
      ],
      "metadata": {
        "id": "zh2RafD2b-kN"
      }
    },
    {
      "cell_type": "code",
      "source": [
        "def chatbot():\n",
        "    print(\"Welcome to Sweet Treats Bakery!\")\n",
        "    print(\"How can I assist you today?\")\n",
        "\n",
        "    while True:\n",
        "        user_input = input(\"You: \").lower()\n",
        "\n",
        "        if \"hello\" in user_input or \"hi\" in user_input:\n",
        "            print(\"Bot: Hello! Welcome to Sweet Treats Bakery. How can I help you today?\")\n",
        "        elif \"menu\" in user_input or \"products\" in user_input:\n",
        "            print(\"Bot: We have a wide variety of cakes, cupcakes, cookies, and more. Would you like to know more about a specific item?\")\n",
        "        elif \"cake\" in user_input:\n",
        "            print(\"Bot: Our cakes come in various flavors, including chocolate, vanilla, red velvet, and more. You can also customize your cake.\")\n",
        "        elif \"cupcake\" in user_input:\n",
        "            print(\"Bot: We offer delicious cupcakes in flavors like chocolate, vanilla, red velvet, and much more. They are perfect for any occasion!\")\n",
        "        elif \"cookie\" in user_input:\n",
        "            print(\"Bot: Our cookies are freshly baked and come in flavors like chocolate chip, oatmeal raisin, and many more!\")\n",
        "        elif \"desserts\" in user_input:\n",
        "            print(\"Bot: We have a selection of desserts including croissants, biscuits, and much more.\")\n",
        "        elif \"order\" in user_input:\n",
        "            print(\"Bot: You can place an order by calling us at 123-456-7890 or by visiting our website at www.sweettreatsbakery.com.\")\n",
        "        elif \"thanks\" in user_input or \"exit\" in user_input:\n",
        "            print(\"Bot: Thank you for visiting Sweet Treats Bakery! Have a great day!\")\n",
        "            break\n",
        "        else:\n",
        "            print(\"Bot: I'm sorry, I didn't understand that. Could you ask something else?\")\n",
        "\n",
        "# Run the chatbot\n",
        "chatbot()"
      ],
      "metadata": {
        "colab": {
          "base_uri": "https://localhost:8080/"
        },
        "id": "1tk1y5VFwF08",
        "outputId": "fab819ad-4fe5-4bee-8d76-002c719de701"
      },
      "execution_count": 2,
      "outputs": [
        {
          "output_type": "stream",
          "name": "stdout",
          "text": [
            "Welcome to Sweet Treats Bakery!\n",
            "How can I assist you today?\n",
            "You: I want a dessert\n",
            "Bot: I'm sorry, I didn't understand that. Could you ask something else?\n",
            "You: I want desserts\n",
            "Bot: We have a selection of desserts including croissants, biscuits, and much more.\n",
            "You: Thanks\n",
            "Bot: Thank you for visiting Sweet Treats Bakery! Have a great day!\n"
          ]
        }
      ]
    },
    {
      "cell_type": "markdown",
      "source": [
        "#Chatbot con NLP"
      ],
      "metadata": {
        "id": "cnH05oYTb61p"
      }
    },
    {
      "cell_type": "code",
      "source": [
        "import nltk\n",
        "from nltk.tokenize import word_tokenize\n",
        "from nltk.corpus import wordnet\n",
        "\n",
        "# Make sure to download these resources if you don't have them\n",
        "nltk.download('punkt')\n",
        "nltk.download('wordnet')\n",
        "\n",
        "def get_synonyms(word):\n",
        "    synonyms = []\n",
        "    for syn in wordnet.synsets(word):\n",
        "        for lemma in syn.lemmas():\n",
        "            synonyms.append(lemma.name().lower())\n",
        "    return set(synonyms)\n",
        "\n",
        "def chatbot():\n",
        "    print(\"Welcome to Sweet Treats Bakery!\")\n",
        "    print(\"How can I assist you today?\")\n",
        "\n",
        "    while True:\n",
        "        user_input = input(\"You: \").lower()\n",
        "        tokens = word_tokenize(user_input)\n",
        "\n",
        "        # Greetings\n",
        "        if any(word in tokens for word in get_synonyms(\"hello\")):\n",
        "            print(\"Bot: Hello! Welcome to Sweet Treats Bakery. How can I help you today?\")\n",
        "\n",
        "        # Menu or products\n",
        "        elif any(word in tokens for word in get_synonyms(\"menu\")) or any(word in tokens for word in get_synonyms(\"product\")):\n",
        "            print(\"Bot: We have a wide variety of cakes, cupcakes, cookies, and more. Would you like to know more about a specific item?\")\n",
        "\n",
        "        # Cakes\n",
        "        elif any(word in tokens for word in get_synonyms(\"cake\")):\n",
        "            print(\"Bot: Our cakes come in various flavors, including chocolate, vanilla, red velvet, and more. You can also customize your cake.\")\n",
        "\n",
        "        # Cupcakes\n",
        "        elif any(word in tokens for word in get_synonyms(\"cupcake\")):\n",
        "            print(\"Bot: We offer delicious cupcakes in flavors like chocolate, vanilla, red velvet, and much more. They are perfect for any occasion!\")\n",
        "\n",
        "        # Cookies\n",
        "        elif any(word in tokens for word in get_synonyms(\"cookie\")):\n",
        "            print(\"Bot: Our cookies are freshly baked and come in flavors like chocolate chip, oatmeal raisin, and many more!\")\n",
        "\n",
        "        # Desserts\n",
        "        elif any(word in tokens for word in get_synonyms(\"dessert\")):\n",
        "            print(\"Bot: We have a selection of desserts including croissants, biscuits, and much more.\")\n",
        "\n",
        "        # Ordering\n",
        "        elif any(word in tokens for word in get_synonyms(\"order\")):\n",
        "            print(\"Bot: You can place an order by calling us at 123-456-7890 or by visiting our website at www.sweettreatsbakery.com.\")\n",
        "\n",
        "        # Thanks and exit\n",
        "        elif any(word in tokens for word in get_synonyms(\"thanks\")) or \"exit\" in tokens:\n",
        "            print(\"Bot: Thank you for visiting Sweet Treats Bakery! Have a great day!\")\n",
        "            break\n",
        "\n",
        "        # Default response\n",
        "        else:\n",
        "            print(\"Bot: I'm sorry, I didn't understand that. Could you ask something else?\")\n",
        "\n",
        "# Run the chatbot\n",
        "chatbot()\n",
        "\n"
      ],
      "metadata": {
        "colab": {
          "base_uri": "https://localhost:8080/"
        },
        "id": "OcLbCKFsFVA1",
        "outputId": "dc0f76d7-d7c6-4bf0-809e-b183413bc027"
      },
      "execution_count": 4,
      "outputs": [
        {
          "output_type": "stream",
          "name": "stderr",
          "text": [
            "[nltk_data] Downloading package punkt to /root/nltk_data...\n",
            "[nltk_data]   Package punkt is already up-to-date!\n",
            "[nltk_data] Downloading package wordnet to /root/nltk_data...\n",
            "[nltk_data]   Package wordnet is already up-to-date!\n"
          ]
        },
        {
          "output_type": "stream",
          "name": "stdout",
          "text": [
            "Welcome to Sweet Treats Bakery!\n",
            "How can I assist you today?\n",
            "You: Hi , I want a biscuit\n",
            "Bot: Hello! Welcome to Sweet Treats Bakery. How can I help you today?\n",
            "You: I would like to know the menu\n",
            "Bot: We have a wide variety of cakes, cupcakes, cookies, and more. Would you like to know more about a specific item?\n",
            "You: I want a fairy cake\n",
            "Bot: Our cakes come in various flavors, including chocolate, vanilla, red velvet, and more. You can also customize your cake.\n",
            "You: I awant a pastry too\n",
            "Bot: I'm sorry, I didn't understand that. Could you ask something else?\n",
            "You: Dessert\n",
            "Bot: We have a selection of desserts including croissants, biscuits, and much more.\n",
            "You: Thanks, I don´t need anymire\n",
            "Bot: Thank you for visiting Sweet Treats Bakery! Have a great day!\n"
          ]
        }
      ]
    }
  ]
}