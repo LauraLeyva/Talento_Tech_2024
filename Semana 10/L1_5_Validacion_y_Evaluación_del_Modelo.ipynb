{
  "nbformat": 4,
  "nbformat_minor": 0,
  "metadata": {
    "colab": {
      "provenance": []
    },
    "kernelspec": {
      "name": "python3",
      "display_name": "Python 3"
    },
    "language_info": {
      "name": "python"
    }
  },
  "cells": [
    {
      "cell_type": "code",
      "source": [
        "import pandas as pd\n",
        "import numpy as np\n",
        "from sklearn.model_selection import train_test_split\n",
        "from sklearn.metrics import mean_absolute_error\n",
        "from statsmodels.tsa.arima.model import ARIMA\n",
        "\n",
        "# Generar datos de ejemplo\n",
        "np.random.seed(0)\n",
        "dates = pd.date_range(start='2022-01-01', end='2022-12-31')\n",
        "values = np.arange(len(dates)) * 0.2 + np.random.rand(len(dates)) * 50\n",
        "ts = pd.Series(values, index=dates)\n",
        "\n",
        "# Dividir los datos en entrenamiento y prueba\n",
        "train_data, test_data = train_test_split(ts, test_size=0.2, shuffle=False)\n",
        "\n",
        "# Ajustar el modelo ARIMA\n",
        "model = ARIMA(train_data, order=(10, 1, 10))\n",
        "model_fit = model.fit()\n",
        "\n",
        "# Realizar el pronéstico en los datos de prueba\n",
        "forecast = model_fit.forecast(steps=len(test_data))\n",
        "\n",
        "# Calcular el error absoluto medio (MAE)\n",
        "mae = mean_absolute_error(test_data, forecast)\n",
        "print('Error Absoluto Medio (MAE):', mae)"
      ],
      "metadata": {
        "colab": {
          "base_uri": "https://localhost:8080/"
        },
        "id": "w_epfC8srPWO",
        "outputId": "81e04964-2279-455a-df5d-927b9a3606b4"
      },
      "execution_count": null,
      "outputs": [
        {
          "output_type": "stream",
          "name": "stderr",
          "text": [
            "/usr/local/lib/python3.10/dist-packages/statsmodels/base/model.py:607: ConvergenceWarning: Maximum Likelihood optimization failed to converge. Check mle_retvals\n",
            "  warnings.warn(\"Maximum Likelihood optimization failed to \"\n"
          ]
        },
        {
          "output_type": "stream",
          "name": "stdout",
          "text": [
            "Error Absoluto Medio (MAE): 13.26124137437332\n"
          ]
        }
      ]
    }
  ]
}