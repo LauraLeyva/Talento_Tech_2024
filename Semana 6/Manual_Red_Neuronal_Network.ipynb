{
  "nbformat": 4,
  "nbformat_minor": 0,
  "metadata": {
    "colab": {
      "provenance": []
    },
    "kernelspec": {
      "name": "python3",
      "display_name": "Python 3"
    },
    "language_info": {
      "name": "python"
    }
  },
  "cells": [
    {
      "cell_type": "code",
      "execution_count": null,
      "metadata": {
        "colab": {
          "base_uri": "https://localhost:8080/"
        },
        "id": "Iek-AjgEb9Ws",
        "outputId": "88e46345-1aff-4c65-f369-081532972e47"
      },
      "outputs": [
        {
          "output_type": "stream",
          "name": "stdout",
          "text": [
            "Z: [-1]\n",
            "A: 0\n"
          ]
        }
      ],
      "source": [
        "# Perceptrón Simple\n",
        "import numpy as np\n",
        "W = np.array([1,-1, 1])\n",
        "x = np.array([2, 1, 3])\n",
        "b = np.array([-5])\n",
        "\n",
        "n=[]\n",
        "test=0\n",
        "for i in range(len(W)):\n",
        "    n=W[i]*x[i]\n",
        "    test+=n\n",
        "res=test+b\n",
        "\n",
        "relu=0\n",
        "if res < 0 :\n",
        "  relu\n",
        "else:\n",
        "  relu=res\n",
        "\n",
        "print(\"Z:\",res)\n",
        "print(\"A:\",relu)"
      ]
    }
  ]
}