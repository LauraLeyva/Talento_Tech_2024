{
  "nbformat": 4,
  "nbformat_minor": 0,
  "metadata": {
    "colab": {
      "provenance": []
    },
    "kernelspec": {
      "name": "python3",
      "display_name": "Python 3"
    },
    "language_info": {
      "name": "python"
    }
  },
  "cells": [
    {
      "cell_type": "markdown",
      "source": [
        "Modelos de redes neuronales Clasificación Presentados por Laura Leyva"
      ],
      "metadata": {
        "id": "_9BdsHzuRW9D"
      }
    },
    {
      "cell_type": "markdown",
      "source": [
        "## **Red neuronal Clasificación**"
      ],
      "metadata": {
        "id": "Sgaq2K-Xzlr8"
      }
    },
    {
      "cell_type": "code",
      "execution_count": 2,
      "metadata": {
        "id": "0yuqQHcHsx6L"
      },
      "outputs": [],
      "source": [
        "# Importar Librerías\n",
        "import keras\n",
        "from sklearn.datasets import make_classification\n",
        "from sklearn.model_selection import train_test_split"
      ]
    },
    {
      "cell_type": "code",
      "source": [
        "# Generar un conjunto de datos de clasificación sintético\n",
        "X, y = make_classification(n_samples=100, n_features=5, n_classes=2)"
      ],
      "metadata": {
        "id": "AoTmYkeITrdq"
      },
      "execution_count": 3,
      "outputs": []
    },
    {
      "cell_type": "code",
      "source": [
        "# Dividir los datos en conjuntos de entrenamiento y prueba\n",
        "X_train, X_test, y_train, y_test = train_test_split(X, y, test_size=0.2)"
      ],
      "metadata": {
        "id": "tD933AjKTzqm"
      },
      "execution_count": 4,
      "outputs": []
    },
    {
      "cell_type": "code",
      "source": [
        "# Convertir las etiquetas a codificacién one-hot\n",
        "y_train_categorical = keras.utils.to_categorical (y_train)\n",
        "y_test_categorical = keras.utils.to_categorical (y_test)"
      ],
      "metadata": {
        "id": "j3S6NB4dTjKO"
      },
      "execution_count": 5,
      "outputs": []
    },
    {
      "cell_type": "code",
      "source": [
        "#Crear una instancia de un modelo secuencial de Keras\n",
        "model = keras.models.Sequential ()"
      ],
      "metadata": {
        "id": "EB0tnmBLULw-"
      },
      "execution_count": 6,
      "outputs": []
    },
    {
      "cell_type": "code",
      "source": [
        "# Añadir una capa oculta con 10 neuronas y activación RelLU\n",
        "model.add(keras.layers.Dense(10,input_shape=(X_train.shape[1],), activation='relu'))\n",
        "\n",
        "# Añadir una capa de salida con 2 neuronas (una para cada clase) y activación softmax\n",
        "model.add(keras.layers.Dense (2, activation='softmax'))"
      ],
      "metadata": {
        "id": "aJ2v-cLiUQ_6"
      },
      "execution_count": 7,
      "outputs": []
    },
    {
      "cell_type": "code",
      "source": [
        "# Compilar el modelo\n",
        "model.compile (optimizer='adam',loss='categorical_crossentropy', metrics=['accuracy'])"
      ],
      "metadata": {
        "id": "czZFHKlEU42U"
      },
      "execution_count": 8,
      "outputs": []
    },
    {
      "cell_type": "code",
      "source": [
        "# Entrenar el modelo\n",
        "model.fit(X_train, y_train_categorical, epochs=10,batch_size=32, validation_data=(X_test, y_test_categorical))"
      ],
      "metadata": {
        "colab": {
          "base_uri": "https://localhost:8080/"
        },
        "id": "ZhKHaVCHU-jz",
        "outputId": "7fbbc9ab-1d91-450a-f1b9-ab53ca6e2bea"
      },
      "execution_count": 9,
      "outputs": [
        {
          "output_type": "stream",
          "name": "stdout",
          "text": [
            "Epoch 1/10\n",
            "3/3 [==============================] - 1s 123ms/step - loss: 0.6739 - accuracy: 0.6500 - val_loss: 0.7491 - val_accuracy: 0.6500\n",
            "Epoch 2/10\n",
            "3/3 [==============================] - 0s 25ms/step - loss: 0.6601 - accuracy: 0.6500 - val_loss: 0.7316 - val_accuracy: 0.6500\n",
            "Epoch 3/10\n",
            "3/3 [==============================] - 0s 16ms/step - loss: 0.6464 - accuracy: 0.6500 - val_loss: 0.7147 - val_accuracy: 0.6500\n",
            "Epoch 4/10\n",
            "3/3 [==============================] - 0s 17ms/step - loss: 0.6338 - accuracy: 0.6625 - val_loss: 0.6983 - val_accuracy: 0.6500\n",
            "Epoch 5/10\n",
            "3/3 [==============================] - 0s 16ms/step - loss: 0.6224 - accuracy: 0.6625 - val_loss: 0.6819 - val_accuracy: 0.6500\n",
            "Epoch 6/10\n",
            "3/3 [==============================] - 0s 24ms/step - loss: 0.6100 - accuracy: 0.6625 - val_loss: 0.6659 - val_accuracy: 0.6500\n",
            "Epoch 7/10\n",
            "3/3 [==============================] - 0s 23ms/step - loss: 0.5979 - accuracy: 0.6625 - val_loss: 0.6505 - val_accuracy: 0.6500\n",
            "Epoch 8/10\n",
            "3/3 [==============================] - 0s 21ms/step - loss: 0.5863 - accuracy: 0.6750 - val_loss: 0.6356 - val_accuracy: 0.6500\n",
            "Epoch 9/10\n",
            "3/3 [==============================] - 0s 25ms/step - loss: 0.5751 - accuracy: 0.7000 - val_loss: 0.6206 - val_accuracy: 0.6500\n",
            "Epoch 10/10\n",
            "3/3 [==============================] - 0s 22ms/step - loss: 0.5645 - accuracy: 0.7000 - val_loss: 0.6058 - val_accuracy: 0.6500\n"
          ]
        },
        {
          "output_type": "execute_result",
          "data": {
            "text/plain": [
              "<keras.src.callbacks.History at 0x783db216d300>"
            ]
          },
          "metadata": {},
          "execution_count": 9
        }
      ]
    },
    {
      "cell_type": "code",
      "source": [
        "# Evaluar el modelo en el conjunto de prueba\n",
        "loss, accuracy = model.evaluate(X_test, y_test_categorical)"
      ],
      "metadata": {
        "colab": {
          "base_uri": "https://localhost:8080/"
        },
        "id": "53NC0n6oVYqy",
        "outputId": "e43889eb-5f09-4992-9199-9dd4ee58aa91"
      },
      "execution_count": 10,
      "outputs": [
        {
          "output_type": "stream",
          "name": "stdout",
          "text": [
            "1/1 [==============================] - 0s 29ms/step - loss: 0.6058 - accuracy: 0.6500\n"
          ]
        }
      ]
    },
    {
      "cell_type": "code",
      "source": [
        "print (\"Perdida en el conjunto de prueba:\", loss)\n",
        "print (\"Precisión en el conjunto de prueba:\", accuracy)"
      ],
      "metadata": {
        "colab": {
          "base_uri": "https://localhost:8080/"
        },
        "id": "b49vgQ5DViP6",
        "outputId": "5540fba6-cd21-4a3a-f72d-5f32157b24ff"
      },
      "execution_count": 12,
      "outputs": [
        {
          "output_type": "stream",
          "name": "stdout",
          "text": [
            "Perdida en el conjunto de prueba: 0.6057902574539185\n",
            "Precisión en el conjunto de prueba: 0.6499999761581421\n"
          ]
        }
      ]
    }
  ]
}