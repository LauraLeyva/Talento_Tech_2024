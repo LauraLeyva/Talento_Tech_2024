{
  "nbformat": 4,
  "nbformat_minor": 0,
  "metadata": {
    "colab": {
      "provenance": [],
      "toc_visible": true
    },
    "kernelspec": {
      "name": "python3",
      "display_name": "Python 3"
    },
    "language_info": {
      "name": "python"
    }
  },
  "cells": [
    {
      "cell_type": "markdown",
      "source": [
        "# Explicación númerica de MLP\n",
        "\n",
        "Tarea solucionada por : Laura Sofía Leyva Aldana\n",
        "\n",
        "Presentado a : Andrés Felipe Escallón Portilla\n",
        "\n",
        "Referencias:\n",
        "\n",
        "*Basic numerical examples (MLP and others):\n",
        "\n",
        "https://www.linkedin.com/posts/tom-yeh_deeplearning-llms-generativeai-activity-7161408843111956480-ujq0/\n",
        "\n",
        "\n",
        "- Perceptron:\n",
        "\n",
        "https://www.linkedin.com/posts/jeremyclondon_deeplearning-neuralnetworks-ai-activity-7171891528448008192-nulK/?utm_source=share&utm_medium=member_android\n",
        "\n",
        "- Video about MLP numerical operation:\n",
        "\n",
        "https://www.linkedin.com/posts/annarahn_deeplearning-neuralnetworks-math-ugcPost-7171662948967411712-ZIEx?utm_source=share&utm_medium=member_android\n",
        "\n",
        "\n",
        "*Other:\n",
        "\n",
        "- https://www.linkedin.com/posts/jeremyclondon_deeplearning-neuralnetworks-ai-ugcPost-7174203548736319488-RM0S?utm_source=share&utm_medium=member_android\n",
        "\n",
        "\n",
        "- https://alfanotv.com/raspberry-pi/como-multiplicar-matrices-en-numpy-multiply-matmul/\n",
        "\n"
      ],
      "metadata": {
        "id": "MWjj4BDkLMCl"
      }
    },
    {
      "cell_type": "code",
      "execution_count": 50,
      "metadata": {
        "colab": {
          "base_uri": "https://localhost:8080/"
        },
        "id": "SqCWL6OJQt4c",
        "outputId": "480a9848-7b05-4124-8e1e-7844b0f17090"
      },
      "outputs": [
        {
          "output_type": "stream",
          "name": "stdout",
          "text": [
            "\n",
            " W = \n",
            " [[ 1  1]\n",
            " [-1  1]]\n",
            "\n",
            " X = \n",
            " [[1 5 2]\n",
            " [2 4 2]]\n",
            "\n",
            " WX_1 = \n",
            " [[ 3  9  4]\n",
            " [ 1 -1  0]]\n",
            "\n",
            " WX_2 = \n",
            " [[ 3  9  4]\n",
            " [ 1 -1  0]]\n"
          ]
        }
      ],
      "source": [
        "import numpy as np\n",
        "\n",
        "array_1 = np.array([[1, 1],[-1,1]])\n",
        "\n",
        "\n",
        "W = np.array(     [ [1, 1], [-1,1] ]   )\n",
        "print(\"\\n W = \\n\", W)\n",
        "#print()\n",
        "\n",
        "\n",
        "array_2 = np.array ([[1, 5, 2],[2, 4, 2]])\n",
        "\n",
        "X = np.array (   [  [1, 5, 2],    [2, 4, 2] ]    )\n",
        "print(\"\\n X = \\n\",X)\n",
        "#print()\n",
        "\n",
        "WX_1 = np.dot(W,X)\n",
        "print(\"\\n WX_1 = \\n\",WX_1)\n",
        "#print()\n",
        "\n",
        "WX_2 = np.matmul(W,X)\n",
        "print(\"\\n WX_2 = \\n\",WX_2)\n",
        "#print()\n",
        "\n",
        "#XW = np.matmul(X,W)\n",
        "#print(XW)\n",
        "#print()\n",
        "# Lo anterior no funciona por lo siguiente:\n",
        "#X_(2,3) por W_(2,2) = Resultado_(2,2)?\n",
        "#porque el numero de columnas de X es diferente al numero de filas de W"
      ]
    },
    {
      "cell_type": "markdown",
      "source": [
        "\n",
        "```\n",
        "W_(2,2) por X_(2,3) = WX_(2,3)\n",
        "\n",
        "W*x + b = Z ---> Activation = output\n",
        "\n",
        "W_(3,4) por x_(4,5) = Z_(3,5)\n",
        "\n",
        "Asumiendo que todos los biases son cero y que NO hay función de activación (es decir: se deja pasar la misma información)\n",
        "\n",
        "```\n"
      ],
      "metadata": {
        "id": "SuZYq0Lkddvb"
      }
    },
    {
      "cell_type": "code",
      "source": [
        "W = np.array([   [1,1,0,-1], [-1,1,2,-3], [-1,1,5,0]  ])\n",
        "print(W)\n",
        "\n",
        "print()\n",
        "\n",
        "x = np.array([ [1,5,2,-1,0], [2,4,2,1,-1], [7,5,6,-1,1], [-8,0,4,-1,3] ])\n",
        "print(x)\n",
        "print()\n",
        "\n",
        "b = np.zeros((3, 5)) # suponer todos los valores de los biases en cero\n",
        "print(b)\n",
        "print()\n",
        "\n",
        "Z = np.matmul(W,x) + b\n",
        "print(Z)"
      ],
      "metadata": {
        "colab": {
          "base_uri": "https://localhost:8080/"
        },
        "id": "TX69FW1geISc",
        "outputId": "91b90bc1-2d99-4a13-f7c6-127ddc390df7"
      },
      "execution_count": 51,
      "outputs": [
        {
          "output_type": "stream",
          "name": "stdout",
          "text": [
            "[[ 1  1  0 -1]\n",
            " [-1  1  2 -3]\n",
            " [-1  1  5  0]]\n",
            "\n",
            "[[ 1  5  2 -1  0]\n",
            " [ 2  4  2  1 -1]\n",
            " [ 7  5  6 -1  1]\n",
            " [-8  0  4 -1  3]]\n",
            "\n",
            "[[0. 0. 0. 0. 0.]\n",
            " [0. 0. 0. 0. 0.]\n",
            " [0. 0. 0. 0. 0.]]\n",
            "\n",
            "[[11.  9.  0.  1. -4.]\n",
            " [39.  9.  0.  3. -8.]\n",
            " [36. 24. 30. -3.  4.]]\n"
          ]
        }
      ]
    },
    {
      "cell_type": "markdown",
      "source": [
        "# Explicación manual:\n",
        "\n",
        "```\n",
        "W =\n",
        "[[ 1  1]\n",
        " [-1  1]]\n",
        "\n",
        "x=\n",
        " [[1 5 2]\n",
        " [2 4 2]]\n",
        "\n",
        "Entonces:\n",
        "\n",
        "W*x + b:\n",
        "\n",
        "b=zeros\n",
        "W*x  + 0 = W*x = Z\n",
        "[[ 3  9  4]\n",
        " [ 1 -1  0]]\n",
        "\n",
        "Z-->relu-->A\n",
        "A=\n",
        "[[ 3  9  4]\n",
        " [ 1  0  0]]\n",
        "\n",
        "===============\n",
        "W*x =\n",
        "[[ 3  9  4]\n",
        " [ 1 -1  0]]\n",
        "\n",
        "+ b (b=ones)\n",
        "W*x + b:\n",
        "[[ 4  10  5]\n",
        " [ 2  0   1]]\n",
        "\n",
        "W*x + b = Z\n",
        "Z-->relu-->A\n",
        "\n",
        "A=\n",
        "[[ 4  10  5]\n",
        " [ 2  0   0]]\n",
        "\n",
        "=========================\n",
        "\n",
        "Comparar el resultado conocido (Supervisado)\n",
        "Supongamos que el resultado conocido es:\n",
        "Y_real=\n",
        "[[ 4  10  5]\n",
        " [ 2  0   0]]\n",
        "y sucedió que la red calculó y dio:\n",
        "A=Y_estimado\n",
        "[[ 4  10  5]\n",
        " [ 2  0   0]]\n",
        "\n",
        "Error(Y_real-Y_estimada)=?\n",
        "E=\n",
        "[[ 0  0  0]\n",
        " [ 0  0   0]]\n",
        "\n",
        "===============================================\n",
        "O supongamos que el resultado conocido debe ser:\n",
        "Y_real=\n",
        "[[ -3  6  2]\n",
        " [ 0   5 -1]]\n",
        "y sucedió que la red calculó y dio:\n",
        "\n",
        "A=Y_estimado\n",
        "[[ 4  10  5]\n",
        " [ 2  0   0]]\n",
        "\n",
        "Error(Y_real-Y_estimada)=?\n",
        "E=\n",
        "[[ -7  -4  -3]\n",
        " [ -2  5   -1]]\n",
        "\n",
        "\n",
        "```\n",
        "\n",
        "\n",
        "\n",
        "\n"
      ],
      "metadata": {
        "id": "ExgLywD0L79t"
      }
    },
    {
      "cell_type": "markdown",
      "source": [
        "# Operaciones correctas vs incorrectas:"
      ],
      "metadata": {
        "id": "shw0c-29L3SW"
      }
    },
    {
      "cell_type": "markdown",
      "source": [
        "## Si no se cumple lo dicho incialmente, entonces no se puede multiplicar matrices desde el procedimiento de algebra lineal:"
      ],
      "metadata": {
        "id": "1OC1MYgicKp3"
      }
    },
    {
      "cell_type": "markdown",
      "source": [
        "## \"*\" y multiply son para multiplicar elemento a elemento matrices del mismo tamaño = num_filas x num_columnas"
      ],
      "metadata": {
        "id": "p2GfQ6hGby69"
      }
    },
    {
      "cell_type": "code",
      "source": [
        "#array_r_bad1 = array_1 * array_2\n",
        "#print(array_r_bad1)\n",
        "\n",
        "np.array([1,1])*np.array([1,1])"
      ],
      "metadata": {
        "colab": {
          "base_uri": "https://localhost:8080/"
        },
        "id": "7HsNHYN4VRFI",
        "outputId": "c00608e5-4b50-488e-8f65-b9c80fcda328"
      },
      "execution_count": 52,
      "outputs": [
        {
          "output_type": "execute_result",
          "data": {
            "text/plain": [
              "array([1, 1])"
            ]
          },
          "metadata": {},
          "execution_count": 52
        }
      ]
    },
    {
      "cell_type": "code",
      "source": [
        "print(np.array([2,4])*np.array([3,-5]))"
      ],
      "metadata": {
        "colab": {
          "base_uri": "https://localhost:8080/"
        },
        "id": "loh5iR8Bq5EP",
        "outputId": "50cc1d63-c99a-4e4a-ff67-3fe595bf6014"
      },
      "execution_count": 53,
      "outputs": [
        {
          "output_type": "stream",
          "name": "stdout",
          "text": [
            "[  6 -20]\n"
          ]
        }
      ]
    },
    {
      "cell_type": "code",
      "source": [
        "np.multiply(np.array([2,4]), np.array([3,-5]))"
      ],
      "metadata": {
        "colab": {
          "base_uri": "https://localhost:8080/"
        },
        "id": "LAOwfr1_rKoS",
        "outputId": "86f9262c-239c-466e-e89c-6503d42b42da"
      },
      "execution_count": 54,
      "outputs": [
        {
          "output_type": "execute_result",
          "data": {
            "text/plain": [
              "array([  6, -20])"
            ]
          },
          "metadata": {},
          "execution_count": 54
        }
      ]
    },
    {
      "cell_type": "code",
      "source": [
        "array_new_1 = np.array([[1, 1,1],[-1,1,1]])\n",
        "array_new_2 = np.array ([[1, 5, 2],[2, 4, 2]])\n",
        "\n",
        "array_r = np.dot(array_new_2,array_new_1.T)\n",
        "print(array_r)"
      ],
      "metadata": {
        "id": "xrH3LBioVb4h",
        "colab": {
          "base_uri": "https://localhost:8080/"
        },
        "outputId": "5ce11b91-2f61-41f4-a1a4-d983f78be457"
      },
      "execution_count": 55,
      "outputs": [
        {
          "output_type": "stream",
          "name": "stdout",
          "text": [
            "[[8 6]\n",
            " [8 4]]\n"
          ]
        }
      ]
    },
    {
      "cell_type": "code",
      "source": [
        "mult3 = np.multiply(array_new_1,array_new_2)\n",
        "print(mult3)"
      ],
      "metadata": {
        "id": "A6viHqyUVdLr",
        "colab": {
          "base_uri": "https://localhost:8080/"
        },
        "outputId": "88edc5d0-bfaa-436c-f4f1-3543aadc1d06"
      },
      "execution_count": 56,
      "outputs": [
        {
          "output_type": "stream",
          "name": "stdout",
          "text": [
            "[[ 1  5  2]\n",
            " [-2  4  2]]\n"
          ]
        }
      ]
    },
    {
      "cell_type": "markdown",
      "source": [
        "# HOMEWORK:\n",
        "\n",
        "# Ejemplo académico:\n",
        "\n",
        "Definiendo funciones en python para calcular:\n",
        "\n",
        " W x + b = Z --> relu ---> y"
      ],
      "metadata": {
        "id": "95iD-oV-g_nV"
      }
    },
    {
      "cell_type": "code",
      "source": [
        "def get_output_from_MLP_input(W,x,b,activation=\"linear\"):\n",
        "  #print(\"W = \",end='\\n')\n",
        "  #print(W)\n",
        "  print(f\"W = \\n {W} \\n\")\n",
        "  #print()\n",
        "\n",
        "  print(\"x = \",end='\\n')\n",
        "  print(x)\n",
        "  print(\"b = \",end='\\n')\n",
        "  print(b)\n",
        "  # arguments:\n",
        "  # W,x and b are arrays\n",
        "\n",
        "  # operations\n",
        "  # Z = W x  +  b\n",
        "  #Z = np.matmul(W,x) + b\n",
        "  Z = np.dot(W,x) + b\n",
        "\n",
        "  print(\"Z = \",end='\\n')\n",
        "  print(Z)\n",
        "\n",
        "  if activation==\"linear\":\n",
        "    y = Z\n",
        "\n",
        "  if activation==\"relu\":\n",
        "    # Ternary operator to define a relu function\n",
        "    #y = Z if Z>=0 else 0\n",
        "    #y = Z if Z>0 else 0\n",
        "    #y = 0 if Z<0 else Z\n",
        "    #y = 0 if Z<=0 else Z\n",
        "    y = np.array([0 if z<=0 else z for z in Z])\n",
        "\n",
        "  #TO-DO:\n",
        "  #Funciones de activación\n",
        "\n",
        "  if activation==\"sigmoid\":\n",
        "    y = (1 / (1 + np.exp(-x)))\n",
        "\n",
        "  if activation==\"tanh\":\n",
        "    y = ((np.exp(Z)-np.exp(-Z))/(np.exp(Z)+np.exp(-Z)))\n",
        "\n",
        "  if activation==\"arctanh\":\n",
        "    tan = ((np.exp(Z)-np.exp(-Z))/(np.exp(Z)+np.exp(-Z)))\n",
        "    y = tan**(-1)\n",
        "\n",
        "  if activation==\"softmax\":\n",
        "    y = np.exp(Z)/np.sum(np.exp(Z))\n",
        "\n",
        "  if activation==\"leakyRelu\":\n",
        "    alpha=0.01\n",
        "    y = [z if z >= 0 else alpha * z for z in Z]\n",
        "\n",
        "  if activation==\"maxout\":\n",
        "    y = np.array([max(0,z) for z in Z])\n",
        "\n",
        "  if activation==\"PReLU\":\n",
        "    a=0.01\n",
        "    y =  np.array([max(a*z,z) for z in Z])\n",
        "\n",
        "  if activation==\"ELU\":\n",
        "    alpha=0.01\n",
        "    y = [z if z >= 0 else  alpha*(np.exp(z)-1) for z in Z]\n",
        "\n",
        "  if activation==\"softplus\":\n",
        "    y = np.log(1+np.exp(Z))\n",
        "\n",
        "\n",
        "  print(\"y = \",end='\\n')\n",
        "  print(y)\n",
        "\n",
        "  return y"
      ],
      "metadata": {
        "id": "s3WmpyDyhRP-"
      },
      "execution_count": 57,
      "outputs": []
    },
    {
      "cell_type": "code",
      "source": [
        "# Testing (linear)\n",
        "\n",
        "W = np.array([ [1,-1,1]  , [1,1,0] ,  [0,1,1] ,  [1,0,1]    ])\n",
        "x = np.array([2, 1, 3])\n",
        "b = np.array([-5, 0, 1, -2])\n",
        "\n",
        "y = get_output_from_MLP_input(W,x,b, activation=\"linear\")\n",
        "y"
      ],
      "metadata": {
        "colab": {
          "base_uri": "https://localhost:8080/"
        },
        "id": "mS1WQwkn09eY",
        "outputId": "dccf01f4-0214-4926-ca8d-23381d972ecd"
      },
      "execution_count": 58,
      "outputs": [
        {
          "output_type": "stream",
          "name": "stdout",
          "text": [
            "W = \n",
            " [[ 1 -1  1]\n",
            " [ 1  1  0]\n",
            " [ 0  1  1]\n",
            " [ 1  0  1]] \n",
            "\n",
            "x = \n",
            "[2 1 3]\n",
            "b = \n",
            "[-5  0  1 -2]\n",
            "Z = \n",
            "[-1  3  5  3]\n",
            "y = \n",
            "[-1  3  5  3]\n"
          ]
        },
        {
          "output_type": "execute_result",
          "data": {
            "text/plain": [
              "array([-1,  3,  5,  3])"
            ]
          },
          "metadata": {},
          "execution_count": 58
        }
      ]
    },
    {
      "cell_type": "code",
      "source": [
        "# Testing (relu)\n",
        "\n",
        "W = np.array([ [1,-1,1]  , [1,1,0] ,  [0,1,1] ,  [1,0,1]    ])\n",
        "x = np.array([2, 1, 3])\n",
        "b = np.array([-5, 0, 1, -2])\n",
        "\n",
        "y = get_output_from_MLP_input(W,x,b,\"relu\")\n",
        "y"
      ],
      "metadata": {
        "colab": {
          "base_uri": "https://localhost:8080/"
        },
        "id": "T7bYrs1Gj3m8",
        "outputId": "04c1a017-d467-40f2-954b-09c4fbe5a1ce"
      },
      "execution_count": 59,
      "outputs": [
        {
          "output_type": "stream",
          "name": "stdout",
          "text": [
            "W = \n",
            " [[ 1 -1  1]\n",
            " [ 1  1  0]\n",
            " [ 0  1  1]\n",
            " [ 1  0  1]] \n",
            "\n",
            "x = \n",
            "[2 1 3]\n",
            "b = \n",
            "[-5  0  1 -2]\n",
            "Z = \n",
            "[-1  3  5  3]\n",
            "y = \n",
            "[0 3 5 3]\n"
          ]
        },
        {
          "output_type": "execute_result",
          "data": {
            "text/plain": [
              "array([0, 3, 5, 3])"
            ]
          },
          "metadata": {},
          "execution_count": 59
        }
      ]
    },
    {
      "cell_type": "code",
      "source": [
        "# Testing (Sigmoid)\n",
        "W = np.array([ [1,-1,1]  , [1,1,0] ,  [0,1,1] ,  [1,0,1]    ])\n",
        "x = np.array([2, 1, 3])\n",
        "b = np.array([-5, 0, 1, -2])\n",
        "\n",
        "y = get_output_from_MLP_input(W,x,b,\"sigmoid\")"
      ],
      "metadata": {
        "colab": {
          "base_uri": "https://localhost:8080/"
        },
        "id": "NrDubZUZZJv-",
        "outputId": "c2297255-45de-4775-9024-114646e88cc4"
      },
      "execution_count": 60,
      "outputs": [
        {
          "output_type": "stream",
          "name": "stdout",
          "text": [
            "W = \n",
            " [[ 1 -1  1]\n",
            " [ 1  1  0]\n",
            " [ 0  1  1]\n",
            " [ 1  0  1]] \n",
            "\n",
            "x = \n",
            "[2 1 3]\n",
            "b = \n",
            "[-5  0  1 -2]\n",
            "Z = \n",
            "[-1  3  5  3]\n",
            "y = \n",
            "[0.88079708 0.73105858 0.95257413]\n"
          ]
        }
      ]
    },
    {
      "cell_type": "code",
      "source": [
        "# Testing (Tanh)\n",
        "W = np.array([ [1,-1,1]  , [1,1,0] ,  [0,1,1] ,  [1,0,1]    ])\n",
        "x = np.array([2, 1, 3])\n",
        "b = np.array([-5, 0, 1, -2])\n",
        "\n",
        "y = get_output_from_MLP_input(W,x,b,\"tanh\")"
      ],
      "metadata": {
        "colab": {
          "base_uri": "https://localhost:8080/"
        },
        "id": "yzZBc0eRjTXv",
        "outputId": "db015b98-edb8-458b-c6c0-116325dc8758"
      },
      "execution_count": 61,
      "outputs": [
        {
          "output_type": "stream",
          "name": "stdout",
          "text": [
            "W = \n",
            " [[ 1 -1  1]\n",
            " [ 1  1  0]\n",
            " [ 0  1  1]\n",
            " [ 1  0  1]] \n",
            "\n",
            "x = \n",
            "[2 1 3]\n",
            "b = \n",
            "[-5  0  1 -2]\n",
            "Z = \n",
            "[-1  3  5  3]\n",
            "y = \n",
            "[-0.76159416  0.99505475  0.9999092   0.99505475]\n"
          ]
        }
      ]
    },
    {
      "cell_type": "code",
      "source": [
        "# Testing (Arctanh)\n",
        "W = np.array([ [1,-1,1]  , [1,1,0] ,  [0,1,1] ,  [1,0,1]    ])\n",
        "x = np.array([2, 1, 3])\n",
        "b = np.array([-5, 0, 1, -2])\n",
        "\n",
        "y = get_output_from_MLP_input(W,x,b,\"arctanh\")"
      ],
      "metadata": {
        "colab": {
          "base_uri": "https://localhost:8080/"
        },
        "id": "XEfZ0-pBaZC_",
        "outputId": "6fdb894e-9712-41e2-977c-93f3ca2b930c"
      },
      "execution_count": 62,
      "outputs": [
        {
          "output_type": "stream",
          "name": "stdout",
          "text": [
            "W = \n",
            " [[ 1 -1  1]\n",
            " [ 1  1  0]\n",
            " [ 0  1  1]\n",
            " [ 1  0  1]] \n",
            "\n",
            "x = \n",
            "[2 1 3]\n",
            "b = \n",
            "[-5  0  1 -2]\n",
            "Z = \n",
            "[-1  3  5  3]\n",
            "y = \n",
            "[-1.31303529  1.00496982  1.0000908   1.00496982]\n"
          ]
        }
      ]
    },
    {
      "cell_type": "code",
      "source": [
        "# Testing (Softmax)\n",
        "W = np.array([ [1,-1,1]  , [1,1,0] ,  [0,1,1] ,  [1,0,1]    ])\n",
        "x = np.array([2, 1, 3])\n",
        "b = np.array([-5, 0, 1, -2])\n",
        "\n",
        "y = get_output_from_MLP_input(W,x,b,\"softmax\")\n",
        "sum_y=np.sum(y)\n",
        "print(sum_y)"
      ],
      "metadata": {
        "colab": {
          "base_uri": "https://localhost:8080/"
        },
        "id": "lHYqtr4ubGth",
        "outputId": "b9ef46e0-c0e1-45ea-f95c-e959e5256e11"
      },
      "execution_count": 63,
      "outputs": [
        {
          "output_type": "stream",
          "name": "stdout",
          "text": [
            "W = \n",
            " [[ 1 -1  1]\n",
            " [ 1  1  0]\n",
            " [ 0  1  1]\n",
            " [ 1  0  1]] \n",
            "\n",
            "x = \n",
            "[2 1 3]\n",
            "b = \n",
            "[-5  0  1 -2]\n",
            "Z = \n",
            "[-1  3  5  3]\n",
            "y = \n",
            "[0.00194695 0.10629962 0.78545382 0.10629962]\n",
            "1.0\n"
          ]
        }
      ]
    },
    {
      "cell_type": "code",
      "source": [
        "# Testing (leakyRelu)\n",
        "W = np.array([ [1,-1,1]  , [1,1,0] ,  [0,1,1] ,  [1,0,1]    ])\n",
        "x = np.array([2, 1, 3])\n",
        "b = np.array([-5, 0, 1, -2])\n",
        "\n",
        "y = get_output_from_MLP_input(W,x,b,\"leakyRelu\")"
      ],
      "metadata": {
        "colab": {
          "base_uri": "https://localhost:8080/"
        },
        "id": "69Kdn50cvev4",
        "outputId": "f9733da7-92f1-401d-bc45-0c7407e80627"
      },
      "execution_count": 64,
      "outputs": [
        {
          "output_type": "stream",
          "name": "stdout",
          "text": [
            "W = \n",
            " [[ 1 -1  1]\n",
            " [ 1  1  0]\n",
            " [ 0  1  1]\n",
            " [ 1  0  1]] \n",
            "\n",
            "x = \n",
            "[2 1 3]\n",
            "b = \n",
            "[-5  0  1 -2]\n",
            "Z = \n",
            "[-1  3  5  3]\n",
            "y = \n",
            "[-0.01, 3, 5, 3]\n"
          ]
        }
      ]
    },
    {
      "cell_type": "code",
      "source": [
        "# Testing (maxout)\n",
        "W = np.array([ [1,-1,1]  , [1,1,0] ,  [0,1,1] ,  [1,0,1]    ])\n",
        "x = np.array([2, 1, 3])\n",
        "b = np.array([-5, 0, 1, -2])\n",
        "\n",
        "y = get_output_from_MLP_input(W,x,b,\"maxout\")"
      ],
      "metadata": {
        "colab": {
          "base_uri": "https://localhost:8080/"
        },
        "id": "dgZCUk0_vnvz",
        "outputId": "43239931-8216-4eea-8ead-e9b2c386da44"
      },
      "execution_count": 65,
      "outputs": [
        {
          "output_type": "stream",
          "name": "stdout",
          "text": [
            "W = \n",
            " [[ 1 -1  1]\n",
            " [ 1  1  0]\n",
            " [ 0  1  1]\n",
            " [ 1  0  1]] \n",
            "\n",
            "x = \n",
            "[2 1 3]\n",
            "b = \n",
            "[-5  0  1 -2]\n",
            "Z = \n",
            "[-1  3  5  3]\n",
            "y = \n",
            "[0 3 5 3]\n"
          ]
        }
      ]
    },
    {
      "cell_type": "code",
      "source": [
        "# Testing (PReLU)\n",
        "W = np.array([ [1,-1,1]  , [1,1,0] ,  [0,1,1] ,  [1,0,1]    ])\n",
        "x = np.array([2, 1, 3])\n",
        "b = np.array([-5, 0, 1, -2])\n",
        "\n",
        "y = get_output_from_MLP_input(W,x,b,\"PReLU\")"
      ],
      "metadata": {
        "colab": {
          "base_uri": "https://localhost:8080/"
        },
        "id": "Sqni1_WWvu4Q",
        "outputId": "785bbc2c-c57d-4481-a739-a8e41dcc189e"
      },
      "execution_count": 66,
      "outputs": [
        {
          "output_type": "stream",
          "name": "stdout",
          "text": [
            "W = \n",
            " [[ 1 -1  1]\n",
            " [ 1  1  0]\n",
            " [ 0  1  1]\n",
            " [ 1  0  1]] \n",
            "\n",
            "x = \n",
            "[2 1 3]\n",
            "b = \n",
            "[-5  0  1 -2]\n",
            "Z = \n",
            "[-1  3  5  3]\n",
            "y = \n",
            "[-0.01  3.    5.    3.  ]\n"
          ]
        }
      ]
    },
    {
      "cell_type": "code",
      "source": [
        "# Testing (ELU)\n",
        "W = np.array([ [1,-1,1]  , [1,1,0] ,  [0,1,1] ,  [1,0,1]    ])\n",
        "x = np.array([2, 1, 3])\n",
        "b = np.array([-5, 0, 1, -2])\n",
        "\n",
        "y = get_output_from_MLP_input(W,x,b,\"ELU\")"
      ],
      "metadata": {
        "colab": {
          "base_uri": "https://localhost:8080/"
        },
        "id": "5Z09_a_Xv4XE",
        "outputId": "a6942486-1dc2-45a7-a119-26002b73e34a"
      },
      "execution_count": 67,
      "outputs": [
        {
          "output_type": "stream",
          "name": "stdout",
          "text": [
            "W = \n",
            " [[ 1 -1  1]\n",
            " [ 1  1  0]\n",
            " [ 0  1  1]\n",
            " [ 1  0  1]] \n",
            "\n",
            "x = \n",
            "[2 1 3]\n",
            "b = \n",
            "[-5  0  1 -2]\n",
            "Z = \n",
            "[-1  3  5  3]\n",
            "y = \n",
            "[-0.006321205588285576, 3, 5, 3]\n"
          ]
        }
      ]
    },
    {
      "cell_type": "code",
      "source": [
        "# Testing (softplus)\n",
        "W = np.array([ [1,-1,1]  , [1,1,0] ,  [0,1,1] ,  [1,0,1]    ])\n",
        "x = np.array([2, 1, 3])\n",
        "b = np.array([-5, 0, 1, -2])\n",
        "\n",
        "y = get_output_from_MLP_input(W,x,b,\"softplus\")"
      ],
      "metadata": {
        "colab": {
          "base_uri": "https://localhost:8080/"
        },
        "id": "bF-MSwisv6JI",
        "outputId": "a2c6e14d-6f07-4435-bd02-e2ec869dd054"
      },
      "execution_count": 68,
      "outputs": [
        {
          "output_type": "stream",
          "name": "stdout",
          "text": [
            "W = \n",
            " [[ 1 -1  1]\n",
            " [ 1  1  0]\n",
            " [ 0  1  1]\n",
            " [ 1  0  1]] \n",
            "\n",
            "x = \n",
            "[2 1 3]\n",
            "b = \n",
            "[-5  0  1 -2]\n",
            "Z = \n",
            "[-1  3  5  3]\n",
            "y = \n",
            "[0.31326169 3.04858735 5.00671535 3.04858735]\n"
          ]
        }
      ]
    },
    {
      "cell_type": "markdown",
      "source": [
        "# Ojo: la multiplicacion entre matrices en general NO es conmutativa\n",
        "\n",
        "AB=C en general es distinto de BA=D\n",
        "\n",
        "(suponiendo que por las dimensiones se puedan operar)\n",
        "\n",
        "Ejemplo: al intercambiar Wx con xW hay error"
      ],
      "metadata": {
        "id": "BKBnAxFOp0OU"
      }
    },
    {
      "cell_type": "code",
      "source": [
        "#y = get_output_from_MLP_input(x,W,b) -> Se genera error por que la multiplicación entre matrices NO es CONMUTATIVA\n",
        "y = get_output_from_MLP_input(W,x,b)"
      ],
      "metadata": {
        "id": "re38UP9XpUPZ",
        "colab": {
          "base_uri": "https://localhost:8080/"
        },
        "outputId": "0e3110c6-7224-4978-8657-a05441c46330"
      },
      "execution_count": 69,
      "outputs": [
        {
          "output_type": "stream",
          "name": "stdout",
          "text": [
            "W = \n",
            " [[ 1 -1  1]\n",
            " [ 1  1  0]\n",
            " [ 0  1  1]\n",
            " [ 1  0  1]] \n",
            "\n",
            "x = \n",
            "[2 1 3]\n",
            "b = \n",
            "[-5  0  1 -2]\n",
            "Z = \n",
            "[-1  3  5  3]\n",
            "y = \n",
            "[-1  3  5  3]\n"
          ]
        }
      ]
    }
  ]
}