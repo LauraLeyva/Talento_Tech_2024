{
  "cells": [
    {
      "cell_type": "code",
      "execution_count": null,
      "id": "g7oAWgm5voV2",
      "metadata": {
        "id": "g7oAWgm5voV2"
      },
      "outputs": [],
      "source": [
        "# Carga librerías\n",
        "\n",
        "import keras\n",
        "import numpy as np\n",
        "import pandas as pd\n",
        "import matplotlib.pyplot as plt\n",
        "from sklearn.metrics import f1_score\n",
        "from tensorflow.keras.regularizers import l2\n",
        "from tensorflow.keras.layers import Dense,Dropout\n",
        "from sklearn.preprocessing import OneHotEncoder\n",
        "from sklearn.datasets import make_classification\n",
        "from sklearn.preprocessing import LabelEncoder\n",
        "from sklearn.model_selection import train_test_split\n",
        "from sklearn.metrics import confusion_matrix, ConfusionMatrixDisplay"
      ]
    },
    {
      "cell_type": "markdown",
      "id": "Vryc3cteuxRA",
      "metadata": {
        "id": "Vryc3cteuxRA"
      },
      "source": [
        "## Paso 1. Cargar conjunto de datos"
      ]
    },
    {
      "cell_type": "code",
      "execution_count": null,
      "id": "590d727f",
      "metadata": {
        "id": "590d727f"
      },
      "outputs": [],
      "source": [
        "df = pd.read_csv(\"weather_classification_data.csv\")"
      ]
    },
    {
      "cell_type": "markdown",
      "id": "wIUxK9_mvusp",
      "metadata": {
        "id": "wIUxK9_mvusp"
      },
      "source": [
        "##Paso 2. Visualización de una Muestra"
      ]
    },
    {
      "cell_type": "code",
      "execution_count": null,
      "id": "iMP1I27jvB0Z",
      "metadata": {
        "colab": {
          "base_uri": "https://localhost:8080/",
          "height": 206
        },
        "id": "iMP1I27jvB0Z",
        "outputId": "36438d1e-bd1b-4108-dfb5-129e2741f7cf"
      },
      "outputs": [
        {
          "output_type": "execute_result",
          "data": {
            "text/plain": [
              "   Temperature  Humidity  Wind Speed  Precipitation (%)    Cloud Cover  \\\n",
              "0         14.0        73         9.5               82.0  partly cloudy   \n",
              "1         39.0        96         8.5               71.0  partly cloudy   \n",
              "2         30.0        64         7.0               16.0          clear   \n",
              "3         38.0        83         1.5               82.0          clear   \n",
              "4         27.0        74        17.0               66.0       overcast   \n",
              "\n",
              "   Atmospheric Pressure  UV Index  Season  Visibility (km)  Location  \\\n",
              "0               1010.82         2  Winter              3.5    inland   \n",
              "1               1011.43         7  Spring             10.0    inland   \n",
              "2               1018.72         5  Spring              5.5  mountain   \n",
              "3               1026.25         7  Spring              1.0   coastal   \n",
              "4                990.67         1  Winter              2.5  mountain   \n",
              "\n",
              "  Weather Type  \n",
              "0        Rainy  \n",
              "1       Cloudy  \n",
              "2        Sunny  \n",
              "3        Sunny  \n",
              "4        Rainy  "
            ],
            "text/html": [
              "\n",
              "  <div id=\"df-9faf3fe0-4e73-4bec-bcfa-b99fa45bc5e3\" class=\"colab-df-container\">\n",
              "    <div>\n",
              "<style scoped>\n",
              "    .dataframe tbody tr th:only-of-type {\n",
              "        vertical-align: middle;\n",
              "    }\n",
              "\n",
              "    .dataframe tbody tr th {\n",
              "        vertical-align: top;\n",
              "    }\n",
              "\n",
              "    .dataframe thead th {\n",
              "        text-align: right;\n",
              "    }\n",
              "</style>\n",
              "<table border=\"1\" class=\"dataframe\">\n",
              "  <thead>\n",
              "    <tr style=\"text-align: right;\">\n",
              "      <th></th>\n",
              "      <th>Temperature</th>\n",
              "      <th>Humidity</th>\n",
              "      <th>Wind Speed</th>\n",
              "      <th>Precipitation (%)</th>\n",
              "      <th>Cloud Cover</th>\n",
              "      <th>Atmospheric Pressure</th>\n",
              "      <th>UV Index</th>\n",
              "      <th>Season</th>\n",
              "      <th>Visibility (km)</th>\n",
              "      <th>Location</th>\n",
              "      <th>Weather Type</th>\n",
              "    </tr>\n",
              "  </thead>\n",
              "  <tbody>\n",
              "    <tr>\n",
              "      <th>0</th>\n",
              "      <td>14.0</td>\n",
              "      <td>73</td>\n",
              "      <td>9.5</td>\n",
              "      <td>82.0</td>\n",
              "      <td>partly cloudy</td>\n",
              "      <td>1010.82</td>\n",
              "      <td>2</td>\n",
              "      <td>Winter</td>\n",
              "      <td>3.5</td>\n",
              "      <td>inland</td>\n",
              "      <td>Rainy</td>\n",
              "    </tr>\n",
              "    <tr>\n",
              "      <th>1</th>\n",
              "      <td>39.0</td>\n",
              "      <td>96</td>\n",
              "      <td>8.5</td>\n",
              "      <td>71.0</td>\n",
              "      <td>partly cloudy</td>\n",
              "      <td>1011.43</td>\n",
              "      <td>7</td>\n",
              "      <td>Spring</td>\n",
              "      <td>10.0</td>\n",
              "      <td>inland</td>\n",
              "      <td>Cloudy</td>\n",
              "    </tr>\n",
              "    <tr>\n",
              "      <th>2</th>\n",
              "      <td>30.0</td>\n",
              "      <td>64</td>\n",
              "      <td>7.0</td>\n",
              "      <td>16.0</td>\n",
              "      <td>clear</td>\n",
              "      <td>1018.72</td>\n",
              "      <td>5</td>\n",
              "      <td>Spring</td>\n",
              "      <td>5.5</td>\n",
              "      <td>mountain</td>\n",
              "      <td>Sunny</td>\n",
              "    </tr>\n",
              "    <tr>\n",
              "      <th>3</th>\n",
              "      <td>38.0</td>\n",
              "      <td>83</td>\n",
              "      <td>1.5</td>\n",
              "      <td>82.0</td>\n",
              "      <td>clear</td>\n",
              "      <td>1026.25</td>\n",
              "      <td>7</td>\n",
              "      <td>Spring</td>\n",
              "      <td>1.0</td>\n",
              "      <td>coastal</td>\n",
              "      <td>Sunny</td>\n",
              "    </tr>\n",
              "    <tr>\n",
              "      <th>4</th>\n",
              "      <td>27.0</td>\n",
              "      <td>74</td>\n",
              "      <td>17.0</td>\n",
              "      <td>66.0</td>\n",
              "      <td>overcast</td>\n",
              "      <td>990.67</td>\n",
              "      <td>1</td>\n",
              "      <td>Winter</td>\n",
              "      <td>2.5</td>\n",
              "      <td>mountain</td>\n",
              "      <td>Rainy</td>\n",
              "    </tr>\n",
              "  </tbody>\n",
              "</table>\n",
              "</div>\n",
              "    <div class=\"colab-df-buttons\">\n",
              "\n",
              "  <div class=\"colab-df-container\">\n",
              "    <button class=\"colab-df-convert\" onclick=\"convertToInteractive('df-9faf3fe0-4e73-4bec-bcfa-b99fa45bc5e3')\"\n",
              "            title=\"Convert this dataframe to an interactive table.\"\n",
              "            style=\"display:none;\">\n",
              "\n",
              "  <svg xmlns=\"http://www.w3.org/2000/svg\" height=\"24px\" viewBox=\"0 -960 960 960\">\n",
              "    <path d=\"M120-120v-720h720v720H120Zm60-500h600v-160H180v160Zm220 220h160v-160H400v160Zm0 220h160v-160H400v160ZM180-400h160v-160H180v160Zm440 0h160v-160H620v160ZM180-180h160v-160H180v160Zm440 0h160v-160H620v160Z\"/>\n",
              "  </svg>\n",
              "    </button>\n",
              "\n",
              "  <style>\n",
              "    .colab-df-container {\n",
              "      display:flex;\n",
              "      gap: 12px;\n",
              "    }\n",
              "\n",
              "    .colab-df-convert {\n",
              "      background-color: #E8F0FE;\n",
              "      border: none;\n",
              "      border-radius: 50%;\n",
              "      cursor: pointer;\n",
              "      display: none;\n",
              "      fill: #1967D2;\n",
              "      height: 32px;\n",
              "      padding: 0 0 0 0;\n",
              "      width: 32px;\n",
              "    }\n",
              "\n",
              "    .colab-df-convert:hover {\n",
              "      background-color: #E2EBFA;\n",
              "      box-shadow: 0px 1px 2px rgba(60, 64, 67, 0.3), 0px 1px 3px 1px rgba(60, 64, 67, 0.15);\n",
              "      fill: #174EA6;\n",
              "    }\n",
              "\n",
              "    .colab-df-buttons div {\n",
              "      margin-bottom: 4px;\n",
              "    }\n",
              "\n",
              "    [theme=dark] .colab-df-convert {\n",
              "      background-color: #3B4455;\n",
              "      fill: #D2E3FC;\n",
              "    }\n",
              "\n",
              "    [theme=dark] .colab-df-convert:hover {\n",
              "      background-color: #434B5C;\n",
              "      box-shadow: 0px 1px 3px 1px rgba(0, 0, 0, 0.15);\n",
              "      filter: drop-shadow(0px 1px 2px rgba(0, 0, 0, 0.3));\n",
              "      fill: #FFFFFF;\n",
              "    }\n",
              "  </style>\n",
              "\n",
              "    <script>\n",
              "      const buttonEl =\n",
              "        document.querySelector('#df-9faf3fe0-4e73-4bec-bcfa-b99fa45bc5e3 button.colab-df-convert');\n",
              "      buttonEl.style.display =\n",
              "        google.colab.kernel.accessAllowed ? 'block' : 'none';\n",
              "\n",
              "      async function convertToInteractive(key) {\n",
              "        const element = document.querySelector('#df-9faf3fe0-4e73-4bec-bcfa-b99fa45bc5e3');\n",
              "        const dataTable =\n",
              "          await google.colab.kernel.invokeFunction('convertToInteractive',\n",
              "                                                    [key], {});\n",
              "        if (!dataTable) return;\n",
              "\n",
              "        const docLinkHtml = 'Like what you see? Visit the ' +\n",
              "          '<a target=\"_blank\" href=https://colab.research.google.com/notebooks/data_table.ipynb>data table notebook</a>'\n",
              "          + ' to learn more about interactive tables.';\n",
              "        element.innerHTML = '';\n",
              "        dataTable['output_type'] = 'display_data';\n",
              "        await google.colab.output.renderOutput(dataTable, element);\n",
              "        const docLink = document.createElement('div');\n",
              "        docLink.innerHTML = docLinkHtml;\n",
              "        element.appendChild(docLink);\n",
              "      }\n",
              "    </script>\n",
              "  </div>\n",
              "\n",
              "\n",
              "<div id=\"df-ad177e10-b0c6-48b7-8498-462b1d9c32c7\">\n",
              "  <button class=\"colab-df-quickchart\" onclick=\"quickchart('df-ad177e10-b0c6-48b7-8498-462b1d9c32c7')\"\n",
              "            title=\"Suggest charts\"\n",
              "            style=\"display:none;\">\n",
              "\n",
              "<svg xmlns=\"http://www.w3.org/2000/svg\" height=\"24px\"viewBox=\"0 0 24 24\"\n",
              "     width=\"24px\">\n",
              "    <g>\n",
              "        <path d=\"M19 3H5c-1.1 0-2 .9-2 2v14c0 1.1.9 2 2 2h14c1.1 0 2-.9 2-2V5c0-1.1-.9-2-2-2zM9 17H7v-7h2v7zm4 0h-2V7h2v10zm4 0h-2v-4h2v4z\"/>\n",
              "    </g>\n",
              "</svg>\n",
              "  </button>\n",
              "\n",
              "<style>\n",
              "  .colab-df-quickchart {\n",
              "      --bg-color: #E8F0FE;\n",
              "      --fill-color: #1967D2;\n",
              "      --hover-bg-color: #E2EBFA;\n",
              "      --hover-fill-color: #174EA6;\n",
              "      --disabled-fill-color: #AAA;\n",
              "      --disabled-bg-color: #DDD;\n",
              "  }\n",
              "\n",
              "  [theme=dark] .colab-df-quickchart {\n",
              "      --bg-color: #3B4455;\n",
              "      --fill-color: #D2E3FC;\n",
              "      --hover-bg-color: #434B5C;\n",
              "      --hover-fill-color: #FFFFFF;\n",
              "      --disabled-bg-color: #3B4455;\n",
              "      --disabled-fill-color: #666;\n",
              "  }\n",
              "\n",
              "  .colab-df-quickchart {\n",
              "    background-color: var(--bg-color);\n",
              "    border: none;\n",
              "    border-radius: 50%;\n",
              "    cursor: pointer;\n",
              "    display: none;\n",
              "    fill: var(--fill-color);\n",
              "    height: 32px;\n",
              "    padding: 0;\n",
              "    width: 32px;\n",
              "  }\n",
              "\n",
              "  .colab-df-quickchart:hover {\n",
              "    background-color: var(--hover-bg-color);\n",
              "    box-shadow: 0 1px 2px rgba(60, 64, 67, 0.3), 0 1px 3px 1px rgba(60, 64, 67, 0.15);\n",
              "    fill: var(--button-hover-fill-color);\n",
              "  }\n",
              "\n",
              "  .colab-df-quickchart-complete:disabled,\n",
              "  .colab-df-quickchart-complete:disabled:hover {\n",
              "    background-color: var(--disabled-bg-color);\n",
              "    fill: var(--disabled-fill-color);\n",
              "    box-shadow: none;\n",
              "  }\n",
              "\n",
              "  .colab-df-spinner {\n",
              "    border: 2px solid var(--fill-color);\n",
              "    border-color: transparent;\n",
              "    border-bottom-color: var(--fill-color);\n",
              "    animation:\n",
              "      spin 1s steps(1) infinite;\n",
              "  }\n",
              "\n",
              "  @keyframes spin {\n",
              "    0% {\n",
              "      border-color: transparent;\n",
              "      border-bottom-color: var(--fill-color);\n",
              "      border-left-color: var(--fill-color);\n",
              "    }\n",
              "    20% {\n",
              "      border-color: transparent;\n",
              "      border-left-color: var(--fill-color);\n",
              "      border-top-color: var(--fill-color);\n",
              "    }\n",
              "    30% {\n",
              "      border-color: transparent;\n",
              "      border-left-color: var(--fill-color);\n",
              "      border-top-color: var(--fill-color);\n",
              "      border-right-color: var(--fill-color);\n",
              "    }\n",
              "    40% {\n",
              "      border-color: transparent;\n",
              "      border-right-color: var(--fill-color);\n",
              "      border-top-color: var(--fill-color);\n",
              "    }\n",
              "    60% {\n",
              "      border-color: transparent;\n",
              "      border-right-color: var(--fill-color);\n",
              "    }\n",
              "    80% {\n",
              "      border-color: transparent;\n",
              "      border-right-color: var(--fill-color);\n",
              "      border-bottom-color: var(--fill-color);\n",
              "    }\n",
              "    90% {\n",
              "      border-color: transparent;\n",
              "      border-bottom-color: var(--fill-color);\n",
              "    }\n",
              "  }\n",
              "</style>\n",
              "\n",
              "  <script>\n",
              "    async function quickchart(key) {\n",
              "      const quickchartButtonEl =\n",
              "        document.querySelector('#' + key + ' button');\n",
              "      quickchartButtonEl.disabled = true;  // To prevent multiple clicks.\n",
              "      quickchartButtonEl.classList.add('colab-df-spinner');\n",
              "      try {\n",
              "        const charts = await google.colab.kernel.invokeFunction(\n",
              "            'suggestCharts', [key], {});\n",
              "      } catch (error) {\n",
              "        console.error('Error during call to suggestCharts:', error);\n",
              "      }\n",
              "      quickchartButtonEl.classList.remove('colab-df-spinner');\n",
              "      quickchartButtonEl.classList.add('colab-df-quickchart-complete');\n",
              "    }\n",
              "    (() => {\n",
              "      let quickchartButtonEl =\n",
              "        document.querySelector('#df-ad177e10-b0c6-48b7-8498-462b1d9c32c7 button');\n",
              "      quickchartButtonEl.style.display =\n",
              "        google.colab.kernel.accessAllowed ? 'block' : 'none';\n",
              "    })();\n",
              "  </script>\n",
              "</div>\n",
              "\n",
              "    </div>\n",
              "  </div>\n"
            ],
            "application/vnd.google.colaboratory.intrinsic+json": {
              "type": "dataframe",
              "variable_name": "df",
              "summary": "{\n  \"name\": \"df\",\n  \"rows\": 13200,\n  \"fields\": [\n    {\n      \"column\": \"Temperature\",\n      \"properties\": {\n        \"dtype\": \"number\",\n        \"std\": 17.386326582360788,\n        \"min\": -25.0,\n        \"max\": 109.0,\n        \"num_unique_values\": 126,\n        \"samples\": [\n          80.0,\n          4.0,\n          88.0\n        ],\n        \"semantic_type\": \"\",\n        \"description\": \"\"\n      }\n    },\n    {\n      \"column\": \"Humidity\",\n      \"properties\": {\n        \"dtype\": \"number\",\n        \"std\": 20,\n        \"min\": 20,\n        \"max\": 109,\n        \"num_unique_values\": 90,\n        \"samples\": [\n          84,\n          72,\n          38\n        ],\n        \"semantic_type\": \"\",\n        \"description\": \"\"\n      }\n    },\n    {\n      \"column\": \"Wind Speed\",\n      \"properties\": {\n        \"dtype\": \"number\",\n        \"std\": 6.908704141531295,\n        \"min\": 0.0,\n        \"max\": 48.5,\n        \"num_unique_values\": 97,\n        \"samples\": [\n          26.5,\n          14.5,\n          47.5\n        ],\n        \"semantic_type\": \"\",\n        \"description\": \"\"\n      }\n    },\n    {\n      \"column\": \"Precipitation (%)\",\n      \"properties\": {\n        \"dtype\": \"number\",\n        \"std\": 31.946540769981375,\n        \"min\": 0.0,\n        \"max\": 109.0,\n        \"num_unique_values\": 110,\n        \"samples\": [\n          51.0,\n          8.0,\n          26.0\n        ],\n        \"semantic_type\": \"\",\n        \"description\": \"\"\n      }\n    },\n    {\n      \"column\": \"Cloud Cover\",\n      \"properties\": {\n        \"dtype\": \"category\",\n        \"num_unique_values\": 4,\n        \"samples\": [\n          \"clear\",\n          \"cloudy\",\n          \"partly cloudy\"\n        ],\n        \"semantic_type\": \"\",\n        \"description\": \"\"\n      }\n    },\n    {\n      \"column\": \"Atmospheric Pressure\",\n      \"properties\": {\n        \"dtype\": \"number\",\n        \"std\": 37.199588697503295,\n        \"min\": 800.12,\n        \"max\": 1199.21,\n        \"num_unique_values\": 5456,\n        \"samples\": [\n          939.13,\n          985.08,\n          987.72\n        ],\n        \"semantic_type\": \"\",\n        \"description\": \"\"\n      }\n    },\n    {\n      \"column\": \"UV Index\",\n      \"properties\": {\n        \"dtype\": \"number\",\n        \"std\": 3,\n        \"min\": 0,\n        \"max\": 14,\n        \"num_unique_values\": 15,\n        \"samples\": [\n          4,\n          10,\n          2\n        ],\n        \"semantic_type\": \"\",\n        \"description\": \"\"\n      }\n    },\n    {\n      \"column\": \"Season\",\n      \"properties\": {\n        \"dtype\": \"category\",\n        \"num_unique_values\": 4,\n        \"samples\": [\n          \"Spring\",\n          \"Autumn\",\n          \"Winter\"\n        ],\n        \"semantic_type\": \"\",\n        \"description\": \"\"\n      }\n    },\n    {\n      \"column\": \"Visibility (km)\",\n      \"properties\": {\n        \"dtype\": \"number\",\n        \"std\": 3.371498910353949,\n        \"min\": 0.0,\n        \"max\": 20.0,\n        \"num_unique_values\": 41,\n        \"samples\": [\n          13.0,\n          9.5,\n          1.5\n        ],\n        \"semantic_type\": \"\",\n        \"description\": \"\"\n      }\n    },\n    {\n      \"column\": \"Location\",\n      \"properties\": {\n        \"dtype\": \"category\",\n        \"num_unique_values\": 3,\n        \"samples\": [\n          \"inland\",\n          \"mountain\",\n          \"coastal\"\n        ],\n        \"semantic_type\": \"\",\n        \"description\": \"\"\n      }\n    },\n    {\n      \"column\": \"Weather Type\",\n      \"properties\": {\n        \"dtype\": \"category\",\n        \"num_unique_values\": 4,\n        \"samples\": [\n          \"Cloudy\",\n          \"Snowy\",\n          \"Rainy\"\n        ],\n        \"semantic_type\": \"\",\n        \"description\": \"\"\n      }\n    }\n  ]\n}"
            }
          },
          "metadata": {},
          "execution_count": 3
        }
      ],
      "source": [
        "df.head()"
      ]
    },
    {
      "cell_type": "code",
      "execution_count": null,
      "id": "XioZcSRcBZ0O",
      "metadata": {
        "colab": {
          "base_uri": "https://localhost:8080/"
        },
        "id": "XioZcSRcBZ0O",
        "outputId": "83fefe59-86dc-4b34-ad55-05e7a4773c07"
      },
      "outputs": [
        {
          "output_type": "execute_result",
          "data": {
            "text/plain": [
              "array(['Rainy', 'Cloudy', 'Sunny', 'Snowy'], dtype=object)"
            ]
          },
          "metadata": {},
          "execution_count": 4
        }
      ],
      "source": [
        "target = df['Weather Type'].unique()\n",
        "target"
      ]
    },
    {
      "cell_type": "code",
      "execution_count": null,
      "id": "rIjB5cGZ-hyA",
      "metadata": {
        "colab": {
          "base_uri": "https://localhost:8080/"
        },
        "id": "rIjB5cGZ-hyA",
        "outputId": "8c151251-3af4-4330-dbae-d686959bcf30"
      },
      "outputs": [
        {
          "output_type": "execute_result",
          "data": {
            "text/plain": [
              "(13200, 11)"
            ]
          },
          "metadata": {},
          "execution_count": 5
        }
      ],
      "source": [
        "df.shape"
      ]
    },
    {
      "cell_type": "markdown",
      "id": "75IaLfufv1qw",
      "metadata": {
        "id": "75IaLfufv1qw"
      },
      "source": [
        "## Paso 3. Normalización datos"
      ]
    },
    {
      "cell_type": "code",
      "execution_count": null,
      "id": "iSyIFgDB37SA",
      "metadata": {
        "id": "iSyIFgDB37SA"
      },
      "outputs": [],
      "source": [
        "df = df.dropna()\n",
        "\n",
        "# Inicializar LabelEncoder\n",
        "label_encoders = {}\n",
        "\n",
        "# Codificar las columnas 'Cloud Cover', 'Season', 'Location' y 'Weather Type' con LabelEncoder\n",
        "columns_to_encode = ['Cloud Cover', 'Season', 'Location','Weather Type']\n",
        "\n",
        "for col in columns_to_encode:\n",
        "    label_encoders[col] = LabelEncoder()\n",
        "    df[col] = label_encoders[col].fit_transform(df[col])\n",
        "\n",
        "\n",
        "X = df.drop('Weather Type', axis=1)  # Features\n",
        "y = df['Weather Type']  # Target"
      ]
    },
    {
      "cell_type": "markdown",
      "id": "Pn7EzLg2wOyo",
      "metadata": {
        "id": "Pn7EzLg2wOyo"
      },
      "source": [
        "## Paso 4. Construcción del modelo"
      ]
    },
    {
      "cell_type": "code",
      "execution_count": null,
      "id": "hOQUW_BhwTvh",
      "metadata": {
        "id": "hOQUW_BhwTvh"
      },
      "outputs": [],
      "source": [
        "X_train, X_test, y_train, y_test = train_test_split(X, y, test_size=0.3, random_state=42)"
      ]
    },
    {
      "cell_type": "code",
      "execution_count": null,
      "id": "UOXCT8hTtEA6",
      "metadata": {
        "id": "UOXCT8hTtEA6"
      },
      "outputs": [],
      "source": [
        "X_val, X_val_test, y_val, y_val_test = train_test_split(X, y, test_size=0.5, random_state=42)"
      ]
    },
    {
      "cell_type": "code",
      "execution_count": null,
      "id": "zR-3B0VPzSZM",
      "metadata": {
        "id": "zR-3B0VPzSZM"
      },
      "outputs": [],
      "source": [
        "#Crear una instancia de un modelo secuencial de Keras\n",
        "model = keras.models.Sequential ()"
      ]
    },
    {
      "cell_type": "code",
      "execution_count": null,
      "id": "2vYB8tZvz9sR",
      "metadata": {
        "colab": {
          "base_uri": "https://localhost:8080/"
        },
        "id": "2vYB8tZvz9sR",
        "outputId": "9723573b-f962-4bfc-b1f4-43925c287ad7"
      },
      "outputs": [
        {
          "output_type": "stream",
          "name": "stdout",
          "text": [
            "10\n"
          ]
        }
      ],
      "source": [
        "# Añadir capas y activación\n",
        "print(X_train.shape[1])\n",
        "model.add(keras.layers.Dense(64,input_shape=(X_train.shape[1],), activation='relu'))\n",
        "model.add(Dense(32, activation='relu', kernel_regularizer=l2(0.00001)))\n",
        "model.add(Dropout(0.2))\n",
        "# Añadir una capa de salida con 4 neuronas (una para cada clase) y activación softmax\n",
        "model.add(keras.layers.Dense (4, activation='softmax'))"
      ]
    },
    {
      "cell_type": "markdown",
      "id": "K6cxgRgzzSF9",
      "metadata": {
        "id": "K6cxgRgzzSF9"
      },
      "source": [
        "## Paso 5. Compilación del modelo"
      ]
    },
    {
      "cell_type": "code",
      "execution_count": null,
      "id": "Tg6N-1f60CKJ",
      "metadata": {
        "id": "Tg6N-1f60CKJ"
      },
      "outputs": [],
      "source": [
        "# Compilar el modelo\n",
        "model.compile(optimizer='adam',\n",
        "              loss='sparse_categorical_crossentropy',\n",
        "              metrics=['accuracy'])"
      ]
    },
    {
      "cell_type": "markdown",
      "source": [
        "## Paso 6. Entrenamiento del Modelo"
      ],
      "metadata": {
        "id": "qktCosNSC6SY"
      },
      "id": "qktCosNSC6SY"
    },
    {
      "cell_type": "code",
      "execution_count": null,
      "id": "NVJXQrex0EtX",
      "metadata": {
        "colab": {
          "base_uri": "https://localhost:8080/"
        },
        "id": "NVJXQrex0EtX",
        "outputId": "d245cb6d-d7ce-4b60-9b39-7169537f72c0"
      },
      "outputs": [
        {
          "output_type": "stream",
          "name": "stdout",
          "text": [
            "Epoch 1/140\n",
            "289/289 [==============================] - 4s 7ms/step - loss: 9.7661 - accuracy: 0.5201 - val_loss: 0.7365 - val_accuracy: 0.7724\n",
            "Epoch 2/140\n",
            "289/289 [==============================] - 2s 9ms/step - loss: 0.8290 - accuracy: 0.7128 - val_loss: 0.6678 - val_accuracy: 0.8008\n",
            "Epoch 3/140\n",
            "289/289 [==============================] - 3s 10ms/step - loss: 0.7737 - accuracy: 0.7293 - val_loss: 0.6251 - val_accuracy: 0.7862\n",
            "Epoch 4/140\n",
            "289/289 [==============================] - 2s 7ms/step - loss: 0.7188 - accuracy: 0.7509 - val_loss: 0.5822 - val_accuracy: 0.8083\n",
            "Epoch 5/140\n",
            "289/289 [==============================] - 2s 6ms/step - loss: 0.6872 - accuracy: 0.7647 - val_loss: 0.5618 - val_accuracy: 0.8379\n",
            "Epoch 6/140\n",
            "289/289 [==============================] - 2s 6ms/step - loss: 0.6779 - accuracy: 0.7614 - val_loss: 0.5390 - val_accuracy: 0.8327\n",
            "Epoch 7/140\n",
            "289/289 [==============================] - 2s 6ms/step - loss: 0.7394 - accuracy: 0.7240 - val_loss: 0.5419 - val_accuracy: 0.8485\n",
            "Epoch 8/140\n",
            "289/289 [==============================] - 2s 6ms/step - loss: 0.7426 - accuracy: 0.7133 - val_loss: 0.5273 - val_accuracy: 0.8323\n",
            "Epoch 9/140\n",
            "289/289 [==============================] - 3s 9ms/step - loss: 0.7115 - accuracy: 0.7182 - val_loss: 0.5535 - val_accuracy: 0.8548\n",
            "Epoch 10/140\n",
            "289/289 [==============================] - 2s 9ms/step - loss: 0.7092 - accuracy: 0.7154 - val_loss: 0.5028 - val_accuracy: 0.8370\n",
            "Epoch 11/140\n",
            "289/289 [==============================] - 2s 6ms/step - loss: 0.6626 - accuracy: 0.7451 - val_loss: 0.5351 - val_accuracy: 0.8442\n",
            "Epoch 12/140\n",
            "289/289 [==============================] - 1s 5ms/step - loss: 0.6420 - accuracy: 0.7412 - val_loss: 0.4660 - val_accuracy: 0.8486\n",
            "Epoch 13/140\n",
            "289/289 [==============================] - 1s 3ms/step - loss: 0.6581 - accuracy: 0.7314 - val_loss: 0.4538 - val_accuracy: 0.8636\n",
            "Epoch 14/140\n",
            "289/289 [==============================] - 1s 2ms/step - loss: 0.6553 - accuracy: 0.7262 - val_loss: 0.4514 - val_accuracy: 0.8629\n",
            "Epoch 15/140\n",
            "289/289 [==============================] - 1s 3ms/step - loss: 0.6346 - accuracy: 0.7268 - val_loss: 0.4758 - val_accuracy: 0.8305\n",
            "Epoch 16/140\n",
            "289/289 [==============================] - 1s 2ms/step - loss: 0.6290 - accuracy: 0.7235 - val_loss: 0.4791 - val_accuracy: 0.8412\n",
            "Epoch 17/140\n",
            "289/289 [==============================] - 1s 3ms/step - loss: 0.6493 - accuracy: 0.7149 - val_loss: 0.5537 - val_accuracy: 0.8048\n",
            "Epoch 18/140\n",
            "289/289 [==============================] - 1s 3ms/step - loss: 0.6361 - accuracy: 0.7048 - val_loss: 0.4125 - val_accuracy: 0.8617\n",
            "Epoch 19/140\n",
            "289/289 [==============================] - 1s 3ms/step - loss: 0.6236 - accuracy: 0.7154 - val_loss: 0.4116 - val_accuracy: 0.8677\n",
            "Epoch 20/140\n",
            "289/289 [==============================] - 1s 3ms/step - loss: 0.6217 - accuracy: 0.7116 - val_loss: 0.4580 - val_accuracy: 0.8614\n",
            "Epoch 21/140\n",
            "289/289 [==============================] - 1s 3ms/step - loss: 0.6310 - accuracy: 0.7047 - val_loss: 0.4000 - val_accuracy: 0.8662\n",
            "Epoch 22/140\n",
            "289/289 [==============================] - 1s 3ms/step - loss: 0.6222 - accuracy: 0.7211 - val_loss: 0.4453 - val_accuracy: 0.8503\n",
            "Epoch 23/140\n",
            "289/289 [==============================] - 1s 4ms/step - loss: 0.6356 - accuracy: 0.7035 - val_loss: 0.4667 - val_accuracy: 0.8433\n",
            "Epoch 24/140\n",
            "289/289 [==============================] - 1s 5ms/step - loss: 0.6202 - accuracy: 0.7127 - val_loss: 0.5590 - val_accuracy: 0.8552\n",
            "Epoch 25/140\n",
            "289/289 [==============================] - 1s 3ms/step - loss: 0.6205 - accuracy: 0.7087 - val_loss: 0.4670 - val_accuracy: 0.8456\n",
            "Epoch 26/140\n",
            "289/289 [==============================] - 1s 3ms/step - loss: 0.6214 - accuracy: 0.7049 - val_loss: 0.4537 - val_accuracy: 0.8633\n",
            "Epoch 27/140\n",
            "289/289 [==============================] - 1s 3ms/step - loss: 0.5998 - accuracy: 0.7202 - val_loss: 0.4432 - val_accuracy: 0.8188\n",
            "Epoch 28/140\n",
            "289/289 [==============================] - 1s 3ms/step - loss: 0.6092 - accuracy: 0.7212 - val_loss: 0.4345 - val_accuracy: 0.8383\n",
            "Epoch 29/140\n",
            "289/289 [==============================] - 1s 3ms/step - loss: 0.6148 - accuracy: 0.7166 - val_loss: 0.4074 - val_accuracy: 0.8627\n",
            "Epoch 30/140\n",
            "289/289 [==============================] - 1s 3ms/step - loss: 0.6019 - accuracy: 0.7258 - val_loss: 0.4261 - val_accuracy: 0.8336\n",
            "Epoch 31/140\n",
            "289/289 [==============================] - 1s 3ms/step - loss: 0.6100 - accuracy: 0.7279 - val_loss: 0.4232 - val_accuracy: 0.8405\n",
            "Epoch 32/140\n",
            "289/289 [==============================] - 1s 3ms/step - loss: 0.6108 - accuracy: 0.7350 - val_loss: 0.3917 - val_accuracy: 0.8608\n",
            "Epoch 33/140\n",
            "289/289 [==============================] - 1s 3ms/step - loss: 0.6126 - accuracy: 0.7277 - val_loss: 0.4069 - val_accuracy: 0.8526\n",
            "Epoch 34/140\n",
            "289/289 [==============================] - 1s 3ms/step - loss: 0.6175 - accuracy: 0.7264 - val_loss: 0.4582 - val_accuracy: 0.8333\n",
            "Epoch 35/140\n",
            "289/289 [==============================] - 1s 3ms/step - loss: 0.6072 - accuracy: 0.7250 - val_loss: 0.4073 - val_accuracy: 0.8495\n",
            "Epoch 36/140\n",
            "289/289 [==============================] - 1s 2ms/step - loss: 0.6028 - accuracy: 0.7284 - val_loss: 0.3971 - val_accuracy: 0.8589\n",
            "Epoch 37/140\n",
            "289/289 [==============================] - 1s 3ms/step - loss: 0.6066 - accuracy: 0.7316 - val_loss: 0.4447 - val_accuracy: 0.8535\n",
            "Epoch 38/140\n",
            "289/289 [==============================] - 1s 5ms/step - loss: 0.5975 - accuracy: 0.7364 - val_loss: 0.4296 - val_accuracy: 0.8502\n",
            "Epoch 39/140\n",
            "289/289 [==============================] - 1s 4ms/step - loss: 0.5990 - accuracy: 0.7259 - val_loss: 0.3873 - val_accuracy: 0.8536\n",
            "Epoch 40/140\n",
            "289/289 [==============================] - 1s 4ms/step - loss: 0.5961 - accuracy: 0.7301 - val_loss: 0.4068 - val_accuracy: 0.8568\n",
            "Epoch 41/140\n",
            "289/289 [==============================] - 1s 3ms/step - loss: 0.5993 - accuracy: 0.7318 - val_loss: 0.4643 - val_accuracy: 0.8436\n",
            "Epoch 42/140\n",
            "289/289 [==============================] - 1s 3ms/step - loss: 0.5948 - accuracy: 0.7323 - val_loss: 0.4565 - val_accuracy: 0.8330\n",
            "Epoch 43/140\n",
            "289/289 [==============================] - 1s 3ms/step - loss: 0.5995 - accuracy: 0.7355 - val_loss: 0.4798 - val_accuracy: 0.8303\n",
            "Epoch 44/140\n",
            "289/289 [==============================] - 1s 3ms/step - loss: 0.5915 - accuracy: 0.7333 - val_loss: 0.4035 - val_accuracy: 0.8442\n",
            "Epoch 45/140\n",
            "289/289 [==============================] - 1s 3ms/step - loss: 0.5960 - accuracy: 0.7306 - val_loss: 0.4186 - val_accuracy: 0.8506\n",
            "Epoch 46/140\n",
            "289/289 [==============================] - 1s 2ms/step - loss: 0.5922 - accuracy: 0.7331 - val_loss: 0.3752 - val_accuracy: 0.8544\n",
            "Epoch 47/140\n",
            "289/289 [==============================] - 1s 3ms/step - loss: 0.6032 - accuracy: 0.7298 - val_loss: 0.3900 - val_accuracy: 0.8580\n",
            "Epoch 48/140\n",
            "289/289 [==============================] - 1s 3ms/step - loss: 0.5936 - accuracy: 0.7324 - val_loss: 0.3820 - val_accuracy: 0.8573\n",
            "Epoch 49/140\n",
            "289/289 [==============================] - 1s 3ms/step - loss: 0.5883 - accuracy: 0.7333 - val_loss: 0.4019 - val_accuracy: 0.8592\n",
            "Epoch 50/140\n",
            "289/289 [==============================] - 1s 2ms/step - loss: 0.5863 - accuracy: 0.7391 - val_loss: 0.4095 - val_accuracy: 0.8486\n",
            "Epoch 51/140\n",
            "289/289 [==============================] - 1s 3ms/step - loss: 0.5856 - accuracy: 0.7326 - val_loss: 0.4553 - val_accuracy: 0.8382\n",
            "Epoch 52/140\n",
            "289/289 [==============================] - 1s 3ms/step - loss: 0.5861 - accuracy: 0.7367 - val_loss: 0.3723 - val_accuracy: 0.8573\n",
            "Epoch 53/140\n",
            "289/289 [==============================] - 1s 5ms/step - loss: 0.5815 - accuracy: 0.7374 - val_loss: 0.4192 - val_accuracy: 0.8585\n",
            "Epoch 54/140\n",
            "289/289 [==============================] - 1s 5ms/step - loss: 0.5919 - accuracy: 0.7276 - val_loss: 0.3789 - val_accuracy: 0.8602\n",
            "Epoch 55/140\n",
            "289/289 [==============================] - 1s 3ms/step - loss: 0.5788 - accuracy: 0.7341 - val_loss: 0.3517 - val_accuracy: 0.8782\n",
            "Epoch 56/140\n",
            "289/289 [==============================] - 1s 3ms/step - loss: 0.5810 - accuracy: 0.7287 - val_loss: 0.3502 - val_accuracy: 0.8758\n",
            "Epoch 57/140\n",
            "289/289 [==============================] - 1s 2ms/step - loss: 0.5697 - accuracy: 0.7320 - val_loss: 0.3610 - val_accuracy: 0.8717\n",
            "Epoch 58/140\n",
            "289/289 [==============================] - 1s 3ms/step - loss: 0.5815 - accuracy: 0.7205 - val_loss: 0.3750 - val_accuracy: 0.8603\n",
            "Epoch 59/140\n",
            "289/289 [==============================] - 1s 3ms/step - loss: 0.5766 - accuracy: 0.7273 - val_loss: 0.3523 - val_accuracy: 0.8702\n",
            "Epoch 60/140\n",
            "289/289 [==============================] - 1s 3ms/step - loss: 0.5645 - accuracy: 0.7330 - val_loss: 0.3585 - val_accuracy: 0.8708\n",
            "Epoch 61/140\n",
            "289/289 [==============================] - 1s 3ms/step - loss: 0.5676 - accuracy: 0.7312 - val_loss: 0.3403 - val_accuracy: 0.8768\n",
            "Epoch 62/140\n",
            "289/289 [==============================] - 1s 3ms/step - loss: 0.5595 - accuracy: 0.7395 - val_loss: 0.3401 - val_accuracy: 0.8756\n",
            "Epoch 63/140\n",
            "289/289 [==============================] - 1s 3ms/step - loss: 0.5646 - accuracy: 0.7345 - val_loss: 0.3383 - val_accuracy: 0.8783\n",
            "Epoch 64/140\n",
            "289/289 [==============================] - 1s 2ms/step - loss: 0.5625 - accuracy: 0.7393 - val_loss: 0.4200 - val_accuracy: 0.8706\n",
            "Epoch 65/140\n",
            "289/289 [==============================] - 1s 3ms/step - loss: 0.5672 - accuracy: 0.7378 - val_loss: 0.3912 - val_accuracy: 0.8765\n",
            "Epoch 66/140\n",
            "289/289 [==============================] - 1s 3ms/step - loss: 0.5619 - accuracy: 0.7419 - val_loss: 0.3623 - val_accuracy: 0.8661\n",
            "Epoch 67/140\n",
            "289/289 [==============================] - 1s 3ms/step - loss: 0.5525 - accuracy: 0.7383 - val_loss: 0.3264 - val_accuracy: 0.8782\n",
            "Epoch 68/140\n",
            "289/289 [==============================] - 1s 5ms/step - loss: 0.5550 - accuracy: 0.7446 - val_loss: 0.3204 - val_accuracy: 0.8817\n",
            "Epoch 69/140\n",
            "289/289 [==============================] - 1s 5ms/step - loss: 0.5526 - accuracy: 0.7458 - val_loss: 0.3365 - val_accuracy: 0.8771\n",
            "Epoch 70/140\n",
            "289/289 [==============================] - 1s 3ms/step - loss: 0.5328 - accuracy: 0.7531 - val_loss: 0.3163 - val_accuracy: 0.8767\n",
            "Epoch 71/140\n",
            "289/289 [==============================] - 1s 3ms/step - loss: 0.5453 - accuracy: 0.7490 - val_loss: 0.3273 - val_accuracy: 0.8818\n",
            "Epoch 72/140\n",
            "289/289 [==============================] - 1s 3ms/step - loss: 0.5401 - accuracy: 0.7518 - val_loss: 0.3117 - val_accuracy: 0.8830\n",
            "Epoch 73/140\n",
            "289/289 [==============================] - 1s 3ms/step - loss: 0.5365 - accuracy: 0.7518 - val_loss: 0.3312 - val_accuracy: 0.8836\n",
            "Epoch 74/140\n",
            "289/289 [==============================] - 1s 2ms/step - loss: 0.5433 - accuracy: 0.7526 - val_loss: 0.3287 - val_accuracy: 0.8850\n",
            "Epoch 75/140\n",
            "289/289 [==============================] - 1s 3ms/step - loss: 0.5309 - accuracy: 0.7530 - val_loss: 0.3041 - val_accuracy: 0.8885\n",
            "Epoch 76/140\n",
            "289/289 [==============================] - 1s 3ms/step - loss: 0.5348 - accuracy: 0.7525 - val_loss: 0.3332 - val_accuracy: 0.8829\n",
            "Epoch 77/140\n",
            "289/289 [==============================] - 1s 3ms/step - loss: 0.5220 - accuracy: 0.7588 - val_loss: 0.3125 - val_accuracy: 0.8891\n",
            "Epoch 78/140\n",
            "289/289 [==============================] - 1s 3ms/step - loss: 0.5347 - accuracy: 0.7511 - val_loss: 0.3315 - val_accuracy: 0.8765\n",
            "Epoch 79/140\n",
            "289/289 [==============================] - 1s 3ms/step - loss: 0.5308 - accuracy: 0.7550 - val_loss: 0.3108 - val_accuracy: 0.8852\n",
            "Epoch 80/140\n",
            "289/289 [==============================] - 1s 5ms/step - loss: 0.5222 - accuracy: 0.7619 - val_loss: 0.3483 - val_accuracy: 0.8782\n",
            "Epoch 81/140\n",
            "289/289 [==============================] - 2s 6ms/step - loss: 0.4848 - accuracy: 0.7859 - val_loss: 0.3064 - val_accuracy: 0.8911\n",
            "Epoch 82/140\n",
            "289/289 [==============================] - 1s 5ms/step - loss: 0.4686 - accuracy: 0.7945 - val_loss: 0.3066 - val_accuracy: 0.8898\n",
            "Epoch 83/140\n",
            "289/289 [==============================] - 1s 4ms/step - loss: 0.4727 - accuracy: 0.7904 - val_loss: 0.3178 - val_accuracy: 0.8897\n",
            "Epoch 84/140\n",
            "289/289 [==============================] - 1s 3ms/step - loss: 0.4692 - accuracy: 0.7969 - val_loss: 0.3438 - val_accuracy: 0.8841\n",
            "Epoch 85/140\n",
            "289/289 [==============================] - 1s 3ms/step - loss: 0.4645 - accuracy: 0.7955 - val_loss: 0.3014 - val_accuracy: 0.8903\n",
            "Epoch 86/140\n",
            "289/289 [==============================] - 1s 3ms/step - loss: 0.4598 - accuracy: 0.7960 - val_loss: 0.3088 - val_accuracy: 0.8903\n",
            "Epoch 87/140\n",
            "289/289 [==============================] - 1s 3ms/step - loss: 0.4585 - accuracy: 0.7963 - val_loss: 0.2904 - val_accuracy: 0.8909\n",
            "Epoch 88/140\n",
            "289/289 [==============================] - 1s 3ms/step - loss: 0.4611 - accuracy: 0.7944 - val_loss: 0.3331 - val_accuracy: 0.8792\n",
            "Epoch 89/140\n",
            "289/289 [==============================] - 1s 3ms/step - loss: 0.4643 - accuracy: 0.7936 - val_loss: 0.2953 - val_accuracy: 0.8900\n",
            "Epoch 90/140\n",
            "289/289 [==============================] - 1s 2ms/step - loss: 0.4546 - accuracy: 0.7962 - val_loss: 0.3016 - val_accuracy: 0.8862\n",
            "Epoch 91/140\n",
            "289/289 [==============================] - 1s 3ms/step - loss: 0.4645 - accuracy: 0.7939 - val_loss: 0.3193 - val_accuracy: 0.8891\n",
            "Epoch 92/140\n",
            "289/289 [==============================] - 1s 3ms/step - loss: 0.4624 - accuracy: 0.7908 - val_loss: 0.3178 - val_accuracy: 0.8871\n",
            "Epoch 93/140\n",
            "289/289 [==============================] - 1s 3ms/step - loss: 0.4561 - accuracy: 0.7975 - val_loss: 0.2887 - val_accuracy: 0.8889\n",
            "Epoch 94/140\n",
            "289/289 [==============================] - 1s 3ms/step - loss: 0.4549 - accuracy: 0.7974 - val_loss: 0.2809 - val_accuracy: 0.8927\n",
            "Epoch 95/140\n",
            "289/289 [==============================] - 1s 2ms/step - loss: 0.4558 - accuracy: 0.7983 - val_loss: 0.3013 - val_accuracy: 0.8883\n",
            "Epoch 96/140\n",
            "289/289 [==============================] - 1s 4ms/step - loss: 0.4607 - accuracy: 0.7916 - val_loss: 0.3309 - val_accuracy: 0.8903\n",
            "Epoch 97/140\n",
            "289/289 [==============================] - 1s 5ms/step - loss: 0.4617 - accuracy: 0.7962 - val_loss: 0.3131 - val_accuracy: 0.8856\n",
            "Epoch 98/140\n",
            "289/289 [==============================] - 1s 4ms/step - loss: 0.4515 - accuracy: 0.8025 - val_loss: 0.2823 - val_accuracy: 0.8927\n",
            "Epoch 99/140\n",
            "289/289 [==============================] - 1s 3ms/step - loss: 0.4602 - accuracy: 0.7959 - val_loss: 0.3058 - val_accuracy: 0.8868\n",
            "Epoch 100/140\n",
            "289/289 [==============================] - 1s 3ms/step - loss: 0.4477 - accuracy: 0.8030 - val_loss: 0.3185 - val_accuracy: 0.8877\n",
            "Epoch 101/140\n",
            "289/289 [==============================] - 1s 3ms/step - loss: 0.4460 - accuracy: 0.8002 - val_loss: 0.2825 - val_accuracy: 0.8935\n",
            "Epoch 102/140\n",
            "289/289 [==============================] - 1s 3ms/step - loss: 0.4507 - accuracy: 0.7995 - val_loss: 0.3323 - val_accuracy: 0.8829\n",
            "Epoch 103/140\n",
            "289/289 [==============================] - 1s 3ms/step - loss: 0.4497 - accuracy: 0.7989 - val_loss: 0.2914 - val_accuracy: 0.8959\n",
            "Epoch 104/140\n",
            "289/289 [==============================] - 1s 3ms/step - loss: 0.4479 - accuracy: 0.8000 - val_loss: 0.2767 - val_accuracy: 0.8933\n",
            "Epoch 105/140\n",
            "289/289 [==============================] - 1s 3ms/step - loss: 0.4528 - accuracy: 0.7981 - val_loss: 0.2740 - val_accuracy: 0.8952\n",
            "Epoch 106/140\n",
            "289/289 [==============================] - 1s 3ms/step - loss: 0.4490 - accuracy: 0.8025 - val_loss: 0.3168 - val_accuracy: 0.8892\n",
            "Epoch 107/140\n",
            "289/289 [==============================] - 1s 3ms/step - loss: 0.4517 - accuracy: 0.7969 - val_loss: 0.2779 - val_accuracy: 0.8929\n",
            "Epoch 108/140\n",
            "289/289 [==============================] - 1s 3ms/step - loss: 0.4508 - accuracy: 0.7953 - val_loss: 0.2824 - val_accuracy: 0.8952\n",
            "Epoch 109/140\n",
            "289/289 [==============================] - 1s 3ms/step - loss: 0.4568 - accuracy: 0.7958 - val_loss: 0.3119 - val_accuracy: 0.8885\n",
            "Epoch 110/140\n",
            "289/289 [==============================] - 1s 3ms/step - loss: 0.4427 - accuracy: 0.7979 - val_loss: 0.2953 - val_accuracy: 0.8930\n",
            "Epoch 111/140\n",
            "289/289 [==============================] - 1s 4ms/step - loss: 0.4422 - accuracy: 0.8004 - val_loss: 0.2822 - val_accuracy: 0.8927\n",
            "Epoch 112/140\n",
            "289/289 [==============================] - 1s 5ms/step - loss: 0.4447 - accuracy: 0.8015 - val_loss: 0.2893 - val_accuracy: 0.8939\n",
            "Epoch 113/140\n",
            "289/289 [==============================] - 1s 5ms/step - loss: 0.4519 - accuracy: 0.7981 - val_loss: 0.2917 - val_accuracy: 0.8906\n",
            "Epoch 114/140\n",
            "289/289 [==============================] - 1s 3ms/step - loss: 0.4542 - accuracy: 0.7996 - val_loss: 0.2842 - val_accuracy: 0.8933\n",
            "Epoch 115/140\n",
            "289/289 [==============================] - 1s 3ms/step - loss: 0.4447 - accuracy: 0.8044 - val_loss: 0.2782 - val_accuracy: 0.8947\n",
            "Epoch 116/140\n",
            "289/289 [==============================] - 1s 3ms/step - loss: 0.4415 - accuracy: 0.8024 - val_loss: 0.3176 - val_accuracy: 0.8902\n",
            "Epoch 117/140\n",
            "289/289 [==============================] - 1s 3ms/step - loss: 0.4458 - accuracy: 0.7981 - val_loss: 0.2783 - val_accuracy: 0.8961\n",
            "Epoch 118/140\n",
            "289/289 [==============================] - 1s 3ms/step - loss: 0.4357 - accuracy: 0.8039 - val_loss: 0.2788 - val_accuracy: 0.8938\n",
            "Epoch 119/140\n",
            "289/289 [==============================] - 1s 3ms/step - loss: 0.4491 - accuracy: 0.7929 - val_loss: 0.2690 - val_accuracy: 0.8974\n",
            "Epoch 120/140\n",
            "289/289 [==============================] - 1s 3ms/step - loss: 0.4298 - accuracy: 0.8088 - val_loss: 0.2690 - val_accuracy: 0.8965\n",
            "Epoch 121/140\n",
            "289/289 [==============================] - 1s 3ms/step - loss: 0.4401 - accuracy: 0.8035 - val_loss: 0.2868 - val_accuracy: 0.8950\n",
            "Epoch 122/140\n",
            "289/289 [==============================] - 1s 2ms/step - loss: 0.4370 - accuracy: 0.8069 - val_loss: 0.2811 - val_accuracy: 0.8986\n",
            "Epoch 123/140\n",
            "289/289 [==============================] - 2s 6ms/step - loss: 0.4343 - accuracy: 0.8054 - val_loss: 0.2900 - val_accuracy: 0.8935\n",
            "Epoch 124/140\n",
            "289/289 [==============================] - 1s 3ms/step - loss: 0.4372 - accuracy: 0.8031 - val_loss: 0.2697 - val_accuracy: 0.8973\n",
            "Epoch 125/140\n",
            "289/289 [==============================] - 1s 3ms/step - loss: 0.4334 - accuracy: 0.8085 - val_loss: 0.2666 - val_accuracy: 0.8989\n",
            "Epoch 126/140\n",
            "289/289 [==============================] - 1s 5ms/step - loss: 0.4467 - accuracy: 0.8000 - val_loss: 0.2941 - val_accuracy: 0.8926\n",
            "Epoch 127/140\n",
            "289/289 [==============================] - 1s 5ms/step - loss: 0.4428 - accuracy: 0.7999 - val_loss: 0.2705 - val_accuracy: 0.8959\n",
            "Epoch 128/140\n",
            "289/289 [==============================] - 1s 3ms/step - loss: 0.4372 - accuracy: 0.8004 - val_loss: 0.2691 - val_accuracy: 0.8980\n",
            "Epoch 129/140\n",
            "289/289 [==============================] - 1s 3ms/step - loss: 0.4354 - accuracy: 0.8038 - val_loss: 0.2939 - val_accuracy: 0.8920\n",
            "Epoch 130/140\n",
            "289/289 [==============================] - 1s 3ms/step - loss: 0.4398 - accuracy: 0.8053 - val_loss: 0.2960 - val_accuracy: 0.8903\n",
            "Epoch 131/140\n",
            "289/289 [==============================] - 1s 3ms/step - loss: 0.4426 - accuracy: 0.7992 - val_loss: 0.2688 - val_accuracy: 0.8970\n",
            "Epoch 132/140\n",
            "289/289 [==============================] - 2s 6ms/step - loss: 0.4307 - accuracy: 0.8064 - val_loss: 0.2661 - val_accuracy: 0.8965\n",
            "Epoch 133/140\n",
            "289/289 [==============================] - 1s 3ms/step - loss: 0.4310 - accuracy: 0.8084 - val_loss: 0.2630 - val_accuracy: 0.8965\n",
            "Epoch 134/140\n",
            "289/289 [==============================] - 1s 3ms/step - loss: 0.4380 - accuracy: 0.8005 - val_loss: 0.2939 - val_accuracy: 0.8886\n",
            "Epoch 135/140\n",
            "289/289 [==============================] - 1s 3ms/step - loss: 0.4379 - accuracy: 0.8044 - val_loss: 0.2754 - val_accuracy: 0.8956\n",
            "Epoch 136/140\n",
            "289/289 [==============================] - 1s 3ms/step - loss: 0.4310 - accuracy: 0.8043 - val_loss: 0.2678 - val_accuracy: 0.8964\n",
            "Epoch 137/140\n",
            "289/289 [==============================] - 1s 3ms/step - loss: 0.4437 - accuracy: 0.8001 - val_loss: 0.2807 - val_accuracy: 0.8926\n",
            "Epoch 138/140\n",
            "289/289 [==============================] - 1s 3ms/step - loss: 0.4299 - accuracy: 0.8066 - val_loss: 0.2786 - val_accuracy: 0.8945\n",
            "Epoch 139/140\n",
            "289/289 [==============================] - 1s 4ms/step - loss: 0.4441 - accuracy: 0.7970 - val_loss: 0.2701 - val_accuracy: 0.8964\n",
            "Epoch 140/140\n",
            "289/289 [==============================] - 1s 5ms/step - loss: 0.4339 - accuracy: 0.8024 - val_loss: 0.2992 - val_accuracy: 0.8741\n"
          ]
        }
      ],
      "source": [
        "# Entrenar el modelo\n",
        "history=model.fit(X_train, y_train, epochs=140, batch_size=32, validation_data=(X_val_test, y_val_test))"
      ]
    },
    {
      "cell_type": "markdown",
      "source": [
        "## Paso 7. Evaluación del modelo"
      ],
      "metadata": {
        "id": "GA6KPbYdDCwS"
      },
      "id": "GA6KPbYdDCwS"
    },
    {
      "cell_type": "code",
      "execution_count": null,
      "id": "In5vfll1xRsW",
      "metadata": {
        "colab": {
          "base_uri": "https://localhost:8080/",
          "height": 545
        },
        "id": "In5vfll1xRsW",
        "outputId": "9f2d32d1-3e60-4a2e-a4a4-1caff846e688"
      },
      "outputs": [
        {
          "output_type": "stream",
          "name": "stdout",
          "text": [
            "124/124 [==============================] - 0s 1ms/step\n"
          ]
        },
        {
          "output_type": "display_data",
          "data": {
            "text/plain": [
              "<Figure size 800x600 with 0 Axes>"
            ]
          },
          "metadata": {}
        },
        {
          "output_type": "display_data",
          "data": {
            "text/plain": [
              "<Figure size 640x480 with 2 Axes>"
            ],
            "image/png": "[encoded data removed]"
          },
          "metadata": {}
        },
        {
          "output_type": "stream",
          "name": "stdout",
          "text": [
            "Predicted labels:  [3 0 3 ... 2 3 3]\n",
            "F1-score:  0.8744660327482962\n"
          ]
        }
      ],
      "source": [
        "# Predicciones en el conjunto de prueba\n",
        "y_pred = np.argmax(model.predict(X_test), axis=-1)\n",
        "\n",
        "# Calcular matriz de confusión\n",
        "cm = confusion_matrix(y_test, y_pred)\n",
        "\n",
        "# Mostrar matriz de confusión\n",
        "disp = ConfusionMatrixDisplay(confusion_matrix=cm,\n",
        "                              display_labels=['Rainy', 'Cloudy', 'Sunny', 'Snowy'])\n",
        "plt.figure(figsize=(8, 6))\n",
        "disp.plot(cmap=plt.cm.Blues)\n",
        "plt.title('Matriz de Confusión')\n",
        "plt.show()\n",
        "\n",
        "# Evaluar el modelo\n",
        "print('Predicted labels: ', y_pred)\n",
        "print('F1-score: ', f1_score(y_test, y_pred, average='weighted'))"
      ]
    },
    {
      "cell_type": "markdown",
      "source": [
        "## Paso 7. Gráficas Pérdida y Precisión"
      ],
      "metadata": {
        "id": "17MmyCG7Dg_R"
      },
      "id": "17MmyCG7Dg_R"
    },
    {
      "cell_type": "code",
      "execution_count": null,
      "id": "FkEonzyv7MvZ",
      "metadata": {
        "colab": {
          "base_uri": "https://localhost:8080/",
          "height": 507
        },
        "id": "FkEonzyv7MvZ",
        "outputId": "05914eb2-0db0-4930-dcb7-72bc6467382e"
      },
      "outputs": [
        {
          "output_type": "display_data",
          "data": {
            "text/plain": [
              "<Figure size 1200x500 with 2 Axes>"
            ],
            "image/png": "[encoded data removed]"
          },
          "metadata": {}
        }
      ],
      "source": [
        "# Obtener registros de historia de entrenamiento\n",
        "train_loss = history.history['loss']\n",
        "val_loss = history.history['val_loss']\n",
        "train_acc = history.history['accuracy']\n",
        "val_acc = history.history['val_accuracy']\n",
        "epochs = range(1, len(train_loss) + 1)\n",
        "\n",
        "# Graficar pérdida\n",
        "plt.figure(figsize=(12, 5))\n",
        "plt.subplot(1, 2, 1)\n",
        "plt.plot(epochs, train_loss, 'b-', label='Training loss')\n",
        "plt.plot(epochs, val_loss, 'r--', label='Validation loss')\n",
        "plt.title('Training and Validation Loss')\n",
        "plt.xlabel('Epochs')\n",
        "plt.ylabel('Loss')\n",
        "plt.legend()\n",
        "\n",
        "# Graficar precisión\n",
        "plt.subplot(1, 2, 2)\n",
        "plt.plot(epochs, train_acc, 'b-', label='Training accuracy')\n",
        "plt.plot(epochs, val_acc, 'r--', label='Validation accuracy')\n",
        "plt.title('Training and Validation Accuracy')\n",
        "plt.xlabel('Epochs')\n",
        "plt.ylabel('Accuracy')\n",
        "plt.legend()\n",
        "\n",
        "plt.tight_layout()\n",
        "plt.show()"
      ]
    },
    {
      "cell_type": "markdown",
      "id": "zunE96Fn1oiX",
      "metadata": {
        "id": "zunE96Fn1oiX"
      },
      "source": [
        "## Paso 8. Predicción de una muestra"
      ]
    },
    {
      "cell_type": "code",
      "execution_count": null,
      "id": "kF59JaoB1rXP",
      "metadata": {
        "colab": {
          "base_uri": "https://localhost:8080/"
        },
        "id": "kF59JaoB1rXP",
        "outputId": "5b837700-bba6-490c-bd8e-8410cf24322e"
      },
      "outputs": [
        {
          "output_type": "stream",
          "name": "stdout",
          "text": [
            "124/124 [==============================] - 0s 1ms/step - loss: 0.3058 - accuracy: 0.8710\n",
            "Perdida en el conjunto de prueba: 0.3058195114135742\n",
            "Precisión en el conjunto de prueba: 0.8709595799446106\n"
          ]
        }
      ],
      "source": [
        "# Evaluar el modelo en el conjunto de prueba\n",
        "loss, accuracy = model.evaluate(X_test, y_test)\n",
        "print (\"Perdida en el conjunto de prueba:\", loss)\n",
        "print (\"Precisión en el conjunto de prueba:\", accuracy)"
      ]
    },
    {
      "cell_type": "code",
      "source": [
        "error = y_pred-y_test\n",
        "# Graficar el histograma de y_pred\n",
        "plt.hist(error, bins=30, alpha=0.5, label='error')\n",
        "\n",
        "# Añadir títulos y etiquetas\n",
        "plt.title('Histograma de error')\n",
        "plt.xlabel('Valores')\n",
        "plt.ylabel('Frecuencia')\n",
        "plt.legend()\n",
        "\n",
        "# Mostrar el gráfico\n",
        "plt.show()"
      ],
      "metadata": {
        "colab": {
          "base_uri": "https://localhost:8080/",
          "height": 472
        },
        "id": "nLW7CIgMUpuA",
        "outputId": "46ecad5c-7c53-461f-9d67-1391e4265c86"
      },
      "id": "nLW7CIgMUpuA",
      "execution_count": null,
      "outputs": [
        {
          "output_type": "display_data",
          "data": {
            "text/plain": [
              "<Figure size 640x480 with 1 Axes>"
            ],
            "image/png": "[encoded data removed]"
          },
          "metadata": {}
        }
      ]
    }
  ],
  "metadata": {
    "colab": {
      "provenance": []
    },
    "kernelspec": {
      "display_name": "Python 3",
      "language": "python",
      "name": "python3"
    },
    "language_info": {
      "codemirror_mode": {
        "name": "ipython",
        "version": 3
      },
      "file_extension": ".py",
      "mimetype": "text/x-python",
      "name": "python",
      "nbconvert_exporter": "python",
      "pygments_lexer": "ipython3",
      "version": "3.7.12"
    },
    "papermill": {
      "default_parameters": {},
      "duration": 197.721513,
      "end_time": "2022-11-08T20:23:44.159577",
      "environment_variables": {},
      "exception": null,
      "input_path": "__notebook__.ipynb",
      "output_path": "__notebook__.ipynb",
      "parameters": {},
      "start_time": "2022-11-08T20:20:26.438064",
      "version": "2.3.4"
    }
  },
  "nbformat": 4,
  "nbformat_minor": 5
}