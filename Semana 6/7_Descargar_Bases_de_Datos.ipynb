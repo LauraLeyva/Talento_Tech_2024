{
  "nbformat": 4,
  "nbformat_minor": 0,
  "metadata": {
    "colab": {
      "provenance": []
    },
    "kernelspec": {
      "name": "python3",
      "display_name": "Python 3"
    },
    "language_info": {
      "name": "python"
    }
  },
  "cells": [
    {
      "cell_type": "markdown",
      "source": [
        "**Dataset Obesidad:**<br>\n",
        "- Link Dataset: https://www.kaggle.com/datasets/fatemehmehrparvar/obesity-levels <br>\n",
        "\n",
        "**Dataset Pronóstico tiempo:** <br>\n",
        "- Link Dataset: https://www.kaggle.com/datasets/nikhil7280/weather-type-classification"
      ],
      "metadata": {
        "id": "8S3Eja2CLYsQ"
      }
    }
  ]
}